{
 "cells": [
  {
   "cell_type": "markdown",
   "metadata": {},
   "source": [
    "<p style=\"text-align:center\">\n",
    "    <a href=\"https://skills.network\" target=\"_blank\">\n",
    "    <img src=\"https://cf-courses-data.s3.us.cloud-object-storage.appdomain.cloud/assets/logos/SN_web_lightmode.png\" width=\"200\" alt=\"Skills Network Logo\">\n",
    "    </a>\n",
    "</p>\n"
   ]
  },
  {
   "cell_type": "markdown",
   "metadata": {},
   "source": [
    "# **Space X  Falcon 9 First Stage Landing Prediction**\n"
   ]
  },
  {
   "cell_type": "markdown",
   "metadata": {},
   "source": [
    "## Web scraping Falcon 9 and Falcon Heavy Launches Records from Wikipedia\n"
   ]
  },
  {
   "cell_type": "markdown",
   "metadata": {},
   "source": [
    "Estimated time needed: **40** minutes\n"
   ]
  },
  {
   "cell_type": "markdown",
   "metadata": {},
   "source": [
    "In this lab, you will be performing web scraping to collect Falcon 9 historical launch records from a Wikipedia page titled `List of Falcon 9 and Falcon Heavy launches`\n",
    "\n",
    "https://en.wikipedia.org/wiki/List_of_Falcon_9_and_Falcon_Heavy_launches\n"
   ]
  },
  {
   "cell_type": "markdown",
   "metadata": {},
   "source": [
    "![](https://cf-courses-data.s3.us.cloud-object-storage.appdomain.cloud/IBM-DS0321EN-SkillsNetwork/labs/module_1_L2/images/Falcon9_rocket_family.svg)\n"
   ]
  },
  {
   "cell_type": "markdown",
   "metadata": {},
   "source": [
    "Falcon 9 first stage will land successfully\n"
   ]
  },
  {
   "cell_type": "markdown",
   "metadata": {},
   "source": [
    "![](https://cf-courses-data.s3.us.cloud-object-storage.appdomain.cloud/IBMDeveloperSkillsNetwork-DS0701EN-SkillsNetwork/api/Images/landing_1.gif)\n"
   ]
  },
  {
   "cell_type": "markdown",
   "metadata": {},
   "source": [
    "Several examples of an unsuccessful landing are shown here:\n"
   ]
  },
  {
   "cell_type": "markdown",
   "metadata": {},
   "source": [
    "![](https://cf-courses-data.s3.us.cloud-object-storage.appdomain.cloud/IBMDeveloperSkillsNetwork-DS0701EN-SkillsNetwork/api/Images/crash.gif)\n"
   ]
  },
  {
   "cell_type": "markdown",
   "metadata": {},
   "source": [
    "More specifically, the launch records are stored in a HTML table shown below:\n"
   ]
  },
  {
   "cell_type": "markdown",
   "metadata": {},
   "source": [
    "![](https://cf-courses-data.s3.us.cloud-object-storage.appdomain.cloud/IBM-DS0321EN-SkillsNetwork/labs/module_1_L2/images/falcon9-launches-wiki.png)\n"
   ]
  },
  {
   "cell_type": "markdown",
   "metadata": {},
   "source": [
    "  ## Objectives\n",
    "Web scrap Falcon 9 launch records with `BeautifulSoup`: \n",
    "- Extract a Falcon 9 launch records HTML table from Wikipedia\n",
    "- Parse the table and convert it into a Pandas data frame\n"
   ]
  },
  {
   "cell_type": "markdown",
   "metadata": {},
   "source": [
    "First let's import required packages for this lab\n"
   ]
  },
  {
   "cell_type": "code",
   "metadata": {},
   "source": [
    "!pip3 install beautifulsoup4\n!pip3 install requests"
   ],
   "outputs": [],
   "execution_count": null
  },
  {
   "cell_type": "code",
   "metadata": {
    "ExecuteTime": {
     "end_time": "2024-12-14T19:54:33.047879Z",
     "start_time": "2024-12-14T19:54:32.541098Z"
    }
   },
   "source": [
    "import sys\n",
    "\n",
    "import requests\n",
    "from bs4 import BeautifulSoup\n",
    "import re\n",
    "import unicodedata\n",
    "import pandas as pd"
   ],
   "outputs": [],
   "execution_count": 2
  },
  {
   "cell_type": "markdown",
   "metadata": {},
   "source": [
    "and we will provide some helper functions for you to process web scraped HTML table\n"
   ]
  },
  {
   "cell_type": "code",
   "metadata": {
    "ExecuteTime": {
     "end_time": "2024-12-14T20:30:19.148045Z",
     "start_time": "2024-12-14T20:30:19.142230Z"
    }
   },
   "source": [
    "def date_time(table_cells):\n    \"\"\"\n    This function returns the data and time from the HTML  table cell\n    Input: the  element of a table data cell extracts extra row\n    \"\"\"\n    return [data_time.strip() for data_time in list(table_cells.strings)][0:2]\n\ndef booster_version(table_cells):\n    \"\"\"\n    This function returns the booster version from the HTML  table cell \n    Input: the  element of a table data cell extracts extra row\n    \"\"\"\n    out=''.join([booster_version for i,booster_version in enumerate( table_cells.strings) if i%2==0][0:-1])\n    return out\n\ndef landing_status(table_cells):\n    \"\"\"\n    This function returns the landing status from the HTML table cell \n    Input: the  element of a table data cell extracts extra row\n    \"\"\"\n    out=[i for i in table_cells.strings][0]\n    return out\n\n\ndef get_mass(table_cells):\n    mass=unicodedata.normalize(\"NFKD\", table_cells.text).strip()\n    if mass:\n        mass.find(\"kg\")\n        new_mass=mass[0:mass.find(\"kg\")+2]\n    else:\n        new_mass=0\n    return new_mass\n\n\ndef extract_column_from_header(row):\n    \"\"\"\n    This function returns the landing status from the HTML table cell \n    Input: the  element of a table data cell extracts extra row\n    \"\"\"\n    if (row.br):\n        row.br.extract()\n    if row.a:\n        row.a.extract()\n    if row.sup:\n        row.sup.extract()\n        \n    colunm_name = ' '.join(row.contents)\n    \n    # Filter the digit and empty names\n    if not(colunm_name.strip().isdigit()):\n        colunm_name = colunm_name.strip()\n        return colunm_name    \n"
   ],
   "outputs": [],
   "execution_count": 11
  },
  {
   "cell_type": "markdown",
   "metadata": {},
   "source": [
    "To keep the lab tasks consistent, you will be asked to scrape the data from a snapshot of the  `List of Falcon 9 and Falcon Heavy launches` Wikipage updated on\n",
    "`9th June 2021`\n"
   ]
  },
  {
   "cell_type": "code",
   "metadata": {
    "ExecuteTime": {
     "end_time": "2024-12-14T19:56:03.987689Z",
     "start_time": "2024-12-14T19:56:03.984008Z"
    }
   },
   "source": [
    "static_url = \"https://en.wikipedia.org/w/index.php?title=List_of_Falcon_9_and_Falcon_Heavy_launches&oldid=1027686922\""
   ],
   "outputs": [],
   "execution_count": 3
  },
  {
   "cell_type": "markdown",
   "metadata": {},
   "source": [
    "Next, request the HTML page from the above URL and get a `response` object\n"
   ]
  },
  {
   "cell_type": "markdown",
   "metadata": {},
   "source": [
    "### TASK 1: Request the Falcon9 Launch Wiki page from its URL\n"
   ]
  },
  {
   "cell_type": "markdown",
   "metadata": {},
   "source": [
    "First, let's perform an HTTP GET method to request the Falcon9 Launch HTML page, as an HTTP response.\n"
   ]
  },
  {
   "cell_type": "code",
   "metadata": {
    "ExecuteTime": {
     "end_time": "2024-12-14T19:57:22.660286Z",
     "start_time": "2024-12-14T19:57:14.669579Z"
    }
   },
   "source": [
    "# use requests.get() method with the provided static_url\n",
    "response = requests.get(static_url)\n",
    "print(response.status_code)\n",
    "# assign the response to a object"
   ],
   "outputs": [
    {
     "name": "stdout",
     "output_type": "stream",
     "text": [
      "200\n"
     ]
    }
   ],
   "execution_count": 4
  },
  {
   "cell_type": "markdown",
   "metadata": {},
   "source": [
    "Create a `BeautifulSoup` object from the HTML `response`\n"
   ]
  },
  {
   "cell_type": "code",
   "metadata": {
    "ExecuteTime": {
     "end_time": "2024-12-14T20:01:46.301309Z",
     "start_time": "2024-12-14T20:01:45.358490Z"
    }
   },
   "source": [
    "# Use BeautifulSoup() to create a BeautifulSoup object from a response text content\n",
    "soup = BeautifulSoup(response.text, 'html.parser')"
   ],
   "outputs": [],
   "execution_count": 5
  },
  {
   "cell_type": "markdown",
   "metadata": {},
   "source": [
    "Print the page title to verify if the `BeautifulSoup` object was created properly \n"
   ]
  },
  {
   "cell_type": "code",
   "metadata": {
    "ExecuteTime": {
     "end_time": "2024-12-14T20:02:00.478282Z",
     "start_time": "2024-12-14T20:02:00.474717Z"
    }
   },
   "source": [
    "# Use soup.title attribute\n",
    "print(soup.title)"
   ],
   "outputs": [
    {
     "name": "stdout",
     "output_type": "stream",
     "text": [
      "<title>List of Falcon 9 and Falcon Heavy launches - Wikipedia</title>\n"
     ]
    }
   ],
   "execution_count": 6
  },
  {
   "cell_type": "markdown",
   "metadata": {},
   "source": [
    "### TASK 2: Extract all column/variable names from the HTML table header\n"
   ]
  },
  {
   "cell_type": "markdown",
   "metadata": {},
   "source": [
    "Next, we want to collect all relevant column names from the HTML table header\n"
   ]
  },
  {
   "cell_type": "markdown",
   "metadata": {},
   "source": [
    "Let's try to find all tables on the wiki page first. If you need to refresh your memory about `BeautifulSoup`, please check the external reference link towards the end of this lab\n"
   ]
  },
  {
   "cell_type": "code",
   "metadata": {
    "ExecuteTime": {
     "end_time": "2024-12-14T20:03:02.585023Z",
     "start_time": "2024-12-14T20:03:02.540235Z"
    }
   },
   "source": [
    "# Use the find_all function in the BeautifulSoup object, with element type `table`\n",
    "html_tables = soup.find_all('table',\"wikitable plainrowheaders collapsible\")\n",
    "# Assign the result to a list called `html_tables`\n"
   ],
   "outputs": [],
   "execution_count": 7
  },
  {
   "metadata": {},
   "cell_type": "code",
   "source": "html_tables",
   "outputs": [],
   "execution_count": null
  },
  {
   "cell_type": "markdown",
   "metadata": {},
   "source": [
    "Starting from the third table is our target table contains the actual launch records.\n"
   ]
  },
  {
   "cell_type": "code",
   "metadata": {
    "ExecuteTime": {
     "end_time": "2024-12-14T20:04:16.175169Z",
     "start_time": "2024-12-14T20:04:16.165142Z"
    }
   },
   "source": [
    "# Let's print the third table and check its content\nfirst_launch_table = html_tables[2]\nprint(first_launch_table)"
   ],
   "outputs": [
    {
     "name": "stdout",
     "output_type": "stream",
     "text": [
      "<table class=\"wikitable plainrowheaders collapsible\" style=\"width: 100%;\">\n",
      "<tbody><tr>\n",
      "<th scope=\"col\">Flight No.\n",
      "</th>\n",
      "<th scope=\"col\">Date and<br/>time (<a href=\"/wiki/Coordinated_Universal_Time\" title=\"Coordinated Universal Time\">UTC</a>)\n",
      "</th>\n",
      "<th scope=\"col\"><a href=\"/wiki/List_of_Falcon_9_first-stage_boosters\" title=\"List of Falcon 9 first-stage boosters\">Version,<br/>Booster</a><sup class=\"reference\" id=\"cite_ref-booster_11-2\"><a href=\"#cite_note-booster-11\"><span class=\"cite-bracket\">[</span>b<span class=\"cite-bracket\">]</span></a></sup>\n",
      "</th>\n",
      "<th scope=\"col\">Launch site\n",
      "</th>\n",
      "<th scope=\"col\">Payload<sup class=\"reference\" id=\"cite_ref-Dragon_12-2\"><a href=\"#cite_note-Dragon-12\"><span class=\"cite-bracket\">[</span>c<span class=\"cite-bracket\">]</span></a></sup>\n",
      "</th>\n",
      "<th scope=\"col\">Payload mass\n",
      "</th>\n",
      "<th scope=\"col\">Orbit\n",
      "</th>\n",
      "<th scope=\"col\">Customer\n",
      "</th>\n",
      "<th scope=\"col\">Launch<br/>outcome\n",
      "</th>\n",
      "<th scope=\"col\"><a href=\"/wiki/Falcon_9_first-stage_landing_tests\" title=\"Falcon 9 first-stage landing tests\">Booster<br/>landing</a>\n",
      "</th></tr>\n",
      "<tr>\n",
      "<th rowspan=\"2\" scope=\"row\" style=\"text-align:center;\">14\n",
      "</th>\n",
      "<td>10 January 2015,<br/>09:47<sup class=\"reference\" id=\"cite_ref-nasa20150107_74-0\"><a href=\"#cite_note-nasa20150107-74\"><span class=\"cite-bracket\">[</span>67<span class=\"cite-bracket\">]</span></a></sup>\n",
      "</td>\n",
      "<td><a href=\"/wiki/Falcon_9_v1.1\" title=\"Falcon 9 v1.1\">F9 v1.1</a><br/>B1012<sup class=\"reference\" id=\"cite_ref-block_numbers_14-8\"><a href=\"#cite_note-block_numbers-14\"><span class=\"cite-bracket\">[</span>8<span class=\"cite-bracket\">]</span></a></sup>\n",
      "</td>\n",
      "<td><a href=\"/wiki/Cape_Canaveral_Space_Force_Station\" title=\"Cape Canaveral Space Force Station\">Cape Canaveral</a>,<br/><a href=\"/wiki/Cape_Canaveral_Space_Launch_Complex_40\" title=\"Cape Canaveral Space Launch Complex 40\">LC-40</a>\n",
      "</td>\n",
      "<td><a href=\"/wiki/SpaceX_CRS-5\" title=\"SpaceX CRS-5\">SpaceX CRS-5</a><sup class=\"reference\" id=\"cite_ref-sxManifest20130731_75-0\"><a href=\"#cite_note-sxManifest20130731-75\"><span class=\"cite-bracket\">[</span>68<span class=\"cite-bracket\">]</span></a></sup><br/>(Dragon C107)\n",
      "</td>\n",
      "<td>2,395 kg (5,280 lb)<sup class=\"reference\" id=\"cite_ref-76\"><a href=\"#cite_note-76\"><span class=\"cite-bracket\">[</span>69<span class=\"cite-bracket\">]</span></a></sup>\n",
      "</td>\n",
      "<td><a class=\"mw-redirect\" href=\"/wiki/Low_Earth_Orbit\" title=\"Low Earth Orbit\">LEO</a> (<a class=\"mw-redirect\" href=\"/wiki/ISS\" title=\"ISS\">ISS</a>)\n",
      "</td>\n",
      "<td><a href=\"/wiki/NASA\" title=\"NASA\">NASA</a> (<a href=\"/wiki/Commercial_Resupply_Services\" title=\"Commercial Resupply Services\">CRS</a>)\n",
      "</td>\n",
      "<td class=\"table-success\" style=\"background: #9EFF9E; color:black; vertical-align: middle; text-align: center;\">Success<sup class=\"reference\" id=\"cite_ref-nasacrs520150110_77-0\"><a href=\"#cite_note-nasacrs520150110-77\"><span class=\"cite-bracket\">[</span>70<span class=\"cite-bracket\">]</span></a></sup>\n",
      "</td>\n",
      "<td class=\"table-failure\" style=\"background: #FFC7C7; color:black; vertical-align: middle; text-align: center;\">Failure <small><span class=\"nowrap\">(drone ship)</span></small>\n",
      "</td></tr>\n",
      "<tr>\n",
      "<td colspan=\"9\">Following second-stage separation, SpaceX attempted to <a href=\"/wiki/Falcon_9_first-stage_landing_tests\" title=\"Falcon 9 first-stage landing tests\">return</a> the first stage for the first time to a 90 m × 50 m (300 ft × 160 ft) <a class=\"mw-redirect\" href=\"/wiki/Floating_landing_platform\" title=\"Floating landing platform\">floating platform</a> — called the <a href=\"/wiki/Autonomous_spaceport_drone_ship\" title=\"Autonomous spaceport drone ship\">autonomous spaceport drone ship</a>. The test achieved many objectives and returned a large amount of data, but the <a href=\"/wiki/Grid_fin\" title=\"Grid fin\">grid-fin</a> control surfaces used for the first time for more precise reentry positioning ran out of hydraulic fluid for its control system a minute before landing, resulting in a landing crash.<sup class=\"reference\" id=\"cite_ref-sfn20150110_78-0\"><a href=\"#cite_note-sfn20150110-78\"><span class=\"cite-bracket\">[</span>71<span class=\"cite-bracket\">]</span></a></sup>\n",
      "</td></tr>\n",
      "<tr>\n",
      "<th rowspan=\"2\" scope=\"row\" style=\"text-align:center;\">15\n",
      "</th>\n",
      "<td>11 February 2015,<br/>23:03<sup class=\"reference\" id=\"cite_ref-79\"><a href=\"#cite_note-79\"><span class=\"cite-bracket\">[</span>72<span class=\"cite-bracket\">]</span></a></sup>\n",
      "</td>\n",
      "<td><a href=\"/wiki/Falcon_9_v1.1\" title=\"Falcon 9 v1.1\">F9 v1.1</a><br/>B1013<sup class=\"reference\" id=\"cite_ref-block_numbers_14-9\"><a href=\"#cite_note-block_numbers-14\"><span class=\"cite-bracket\">[</span>8<span class=\"cite-bracket\">]</span></a></sup>\n",
      "</td>\n",
      "<td><a href=\"/wiki/Cape_Canaveral_Space_Force_Station\" title=\"Cape Canaveral Space Force Station\">Cape Canaveral</a>,<br/><a href=\"/wiki/Cape_Canaveral_Space_Launch_Complex_40\" title=\"Cape Canaveral Space Launch Complex 40\">LC-40</a>\n",
      "</td>\n",
      "<td><a class=\"mw-redirect\" href=\"/wiki/DSCOVR\" title=\"DSCOVR\">DSCOVR</a><sup class=\"reference\" id=\"cite_ref-sxManifest20130731_75-1\"><a href=\"#cite_note-sxManifest20130731-75\"><span class=\"cite-bracket\">[</span>68<span class=\"cite-bracket\">]</span></a></sup><sup class=\"reference\" id=\"cite_ref-80\"><a href=\"#cite_note-80\"><span class=\"cite-bracket\">[</span>73<span class=\"cite-bracket\">]</span></a></sup>\n",
      "</td>\n",
      "<td>570 kg (1,260 lb)\n",
      "</td>\n",
      "<td><a href=\"/wiki/High_Earth_orbit\" title=\"High Earth orbit\">HEO</a><br/>(<a href=\"/wiki/Lagrange_point\" title=\"Lagrange point\">Sun–Earth L<sub>1</sub></a> insertion)\n",
      "</td>\n",
      "<td><link href=\"mw-data:TemplateStyles:r1126788409\" rel=\"mw-deduplicated-inline-style\"/><div class=\"plainlist\">\n",
      "<ul><li><a href=\"/wiki/United_States_Air_Force\" title=\"United States Air Force\">USAF</a></li>\n",
      "<li><a href=\"/wiki/NASA\" title=\"NASA\">NASA</a></li>\n",
      "<li><a class=\"mw-redirect\" href=\"/wiki/NOAA\" title=\"NOAA\">NOAA</a></li></ul>\n",
      "</div>\n",
      "</td>\n",
      "<td class=\"table-success\" style=\"background: #9EFF9E; color:black; vertical-align: middle; text-align: center;\">Success\n",
      "</td>\n",
      "<td class=\"partial table-partial\" style=\"background: #BFE; color:black; vertical-align: middle; text-align: center;\">Controlled<br/><small>(ocean)</small><sup class=\"reference\" id=\"cite_ref-ocean_landing_38-4\"><a href=\"#cite_note-ocean_landing-38\"><span class=\"cite-bracket\">[</span>d<span class=\"cite-bracket\">]</span></a></sup>\n",
      "</td></tr>\n",
      "<tr>\n",
      "<td colspan=\"9\">First launch under USAF's <a href=\"/wiki/List_of_U.S._government_and_military_acronyms#O\" title=\"List of U.S. government and military acronyms\">OSP</a> 3 launch contract.<sup class=\"reference\" id=\"cite_ref-spx20121205_81-0\"><a href=\"#cite_note-spx20121205-81\"><span class=\"cite-bracket\">[</span>74<span class=\"cite-bracket\">]</span></a></sup> First SpaceX launch to put a satellite beyond a geostationary transfer orbit, first SpaceX launch into interplanetary space, and first SpaceX launch of an American research satellite. The first stage made a test flight descent to an over-ocean landing within 10 m (33 ft) of its intended target.<sup class=\"reference\" id=\"cite_ref-MuskTweet-20150211_82-0\"><a href=\"#cite_note-MuskTweet-20150211-82\"><span class=\"cite-bracket\">[</span>75<span class=\"cite-bracket\">]</span></a></sup>\n",
      "</td></tr>\n",
      "<tr>\n",
      "<th rowspan=\"2\" scope=\"row\" style=\"text-align:center;\">16\n",
      "</th>\n",
      "<td>2 March 2015,<br/>03:50<sup class=\"reference\" id=\"cite_ref-SFN_LLog_27-3\"><a href=\"#cite_note-SFN_LLog-27\"><span class=\"cite-bracket\">[</span>21<span class=\"cite-bracket\">]</span></a></sup><sup class=\"reference\" id=\"cite_ref-patrickafmil02142015_83-0\"><a href=\"#cite_note-patrickafmil02142015-83\"><span class=\"cite-bracket\">[</span>76<span class=\"cite-bracket\">]</span></a></sup>\n",
      "</td>\n",
      "<td><a href=\"/wiki/Falcon_9_v1.1\" title=\"Falcon 9 v1.1\">F9 v1.1</a><br/>B1014<sup class=\"reference\" id=\"cite_ref-block_numbers_14-10\"><a href=\"#cite_note-block_numbers-14\"><span class=\"cite-bracket\">[</span>8<span class=\"cite-bracket\">]</span></a></sup>\n",
      "</td>\n",
      "<td><a href=\"/wiki/Cape_Canaveral_Space_Force_Station\" title=\"Cape Canaveral Space Force Station\">Cape Canaveral</a>,<br/><a href=\"/wiki/Cape_Canaveral_Space_Launch_Complex_40\" title=\"Cape Canaveral Space Launch Complex 40\">LC-40</a>\n",
      "</td>\n",
      "<td><link href=\"mw-data:TemplateStyles:r1126788409\" rel=\"mw-deduplicated-inline-style\"/><div class=\"plainlist\">\n",
      "<ul><li><a href=\"/wiki/ABS-3A\" title=\"ABS-3A\">ABS-3A</a></li>\n",
      "<li><a href=\"/wiki/Eutelsat_115_West_B\" title=\"Eutelsat 115 West B\">Eutelsat 115 West B</a><sup class=\"reference\" id=\"cite_ref-sxManifest20130731_75-2\"><a href=\"#cite_note-sxManifest20130731-75\"><span class=\"cite-bracket\">[</span>68<span class=\"cite-bracket\">]</span></a></sup></li></ul>\n",
      "</div>\n",
      "</td>\n",
      "<td>4,159 kg (9,169 lb)\n",
      "</td>\n",
      "<td><a href=\"/wiki/Geostationary_transfer_orbit\" title=\"Geostationary transfer orbit\">GTO</a>\n",
      "</td>\n",
      "<td><link href=\"mw-data:TemplateStyles:r1126788409\" rel=\"mw-deduplicated-inline-style\"/><div class=\"plainlist\">\n",
      "<ul><li><a class=\"mw-redirect\" href=\"/wiki/Asia_Broadcast_Satellite\" title=\"Asia Broadcast Satellite\">ABS</a></li>\n",
      "<li><a href=\"/wiki/Eutelsat\" title=\"Eutelsat\">Eutelsat</a></li></ul>\n",
      "</div>\n",
      "</td>\n",
      "<td class=\"table-success\" style=\"background: #9EFF9E; color:black; vertical-align: middle; text-align: center;\">Success\n",
      "</td>\n",
      "<td class=\"table-noAttempt\" style=\"background: #EEE; color:black; vertical-align: middle; white-space: nowrap; text-align: center;\">No attempt<sup class=\"reference\" id=\"cite_ref-84\"><a href=\"#cite_note-84\"><span class=\"cite-bracket\">[</span>77<span class=\"cite-bracket\">]</span></a></sup>\n",
      "</td></tr>\n",
      "<tr>\n",
      "<td colspan=\"9\">The launch was Boeing's first conjoined launch of a <a href=\"/wiki/Boeing_702\" title=\"Boeing 702\">lighter-weight dual-commsat stack</a> that was specifically designed to take advantage of the <a href=\"/wiki/Space_launch_market_competition\" title=\"Space launch market competition\">lower-cost</a> SpaceX Falcon 9 launch vehicle.<sup class=\"reference\" id=\"cite_ref-aw20140310_85-0\"><a href=\"#cite_note-aw20140310-85\"><span class=\"cite-bracket\">[</span>78<span class=\"cite-bracket\">]</span></a></sup><sup class=\"reference\" id=\"cite_ref-boeing20141112_86-0\"><a href=\"#cite_note-boeing20141112-86\"><span class=\"cite-bracket\">[</span>79<span class=\"cite-bracket\">]</span></a></sup> Per satellite, launch costs were less than US$30 million.<sup class=\"reference\" id=\"cite_ref-sfn20150302_87-0\"><a href=\"#cite_note-sfn20150302-87\"><span class=\"cite-bracket\">[</span>80<span class=\"cite-bracket\">]</span></a></sup> The ABS satellite reached its final destination ahead of schedule and started operations on 10 September 2015.<sup class=\"reference\" id=\"cite_ref-boeing_88-0\"><a href=\"#cite_note-boeing-88\"><span class=\"cite-bracket\">[</span>81<span class=\"cite-bracket\">]</span></a></sup>\n",
      "</td></tr>\n",
      "<tr>\n",
      "<th rowspan=\"2\" scope=\"row\" style=\"text-align:center;\">17\n",
      "</th>\n",
      "<td>14 April 2015,<br/>20:10<sup class=\"reference\" id=\"cite_ref-SFN_LLog_27-4\"><a href=\"#cite_note-SFN_LLog-27\"><span class=\"cite-bracket\">[</span>21<span class=\"cite-bracket\">]</span></a></sup>\n",
      "</td>\n",
      "<td><a href=\"/wiki/Falcon_9_v1.1\" title=\"Falcon 9 v1.1\">F9 v1.1</a><br/>B1015<sup class=\"reference\" id=\"cite_ref-block_numbers_14-11\"><a href=\"#cite_note-block_numbers-14\"><span class=\"cite-bracket\">[</span>8<span class=\"cite-bracket\">]</span></a></sup>\n",
      "</td>\n",
      "<td><a class=\"mw-redirect\" href=\"/wiki/Cape_Canaveral_Air_Force_Station\" title=\"Cape Canaveral Air Force Station\">Cape Canaveral</a>,<br/><a href=\"/wiki/Cape_Canaveral_Space_Launch_Complex_40\" title=\"Cape Canaveral Space Launch Complex 40\">LC-40</a>\n",
      "</td>\n",
      "<td><a href=\"/wiki/SpaceX_CRS-6\" title=\"SpaceX CRS-6\">SpaceX CRS-6</a><sup class=\"reference\" id=\"cite_ref-sxManifest20130731_75-3\"><a href=\"#cite_note-sxManifest20130731-75\"><span class=\"cite-bracket\">[</span>68<span class=\"cite-bracket\">]</span></a></sup><br/>(Dragon <a href=\"/wiki/Dragon_C108\" title=\"Dragon C108\">C108.1</a>)\n",
      "</td>\n",
      "<td>1,898 kg (4,184 lb)<sup class=\"reference\" id=\"cite_ref-89\"><a href=\"#cite_note-89\"><span class=\"cite-bracket\">[</span>82<span class=\"cite-bracket\">]</span></a></sup>\n",
      "</td>\n",
      "<td><a class=\"mw-redirect\" href=\"/wiki/Low_Earth_Orbit\" title=\"Low Earth Orbit\">LEO</a> (<a class=\"mw-redirect\" href=\"/wiki/ISS\" title=\"ISS\">ISS</a>)\n",
      "</td>\n",
      "<td><a href=\"/wiki/NASA\" title=\"NASA\">NASA</a> (<a href=\"/wiki/Commercial_Resupply_Services\" title=\"Commercial Resupply Services\">CRS</a>)\n",
      "</td>\n",
      "<td class=\"table-success\" style=\"background: #9EFF9E; color:black; vertical-align: middle; text-align: center;\">Success\n",
      "</td>\n",
      "<td class=\"table-failure\" style=\"background: #FFC7C7; color:black; vertical-align: middle; text-align: center;\">Failure<sup class=\"reference\" id=\"cite_ref-90\"><a href=\"#cite_note-90\"><span class=\"cite-bracket\">[</span>83<span class=\"cite-bracket\">]</span></a></sup><br/><small>(drone ship)</small>\n",
      "</td></tr>\n",
      "<tr>\n",
      "<td colspan=\"9\">After second-stage separation, a controlled-descent test was attempted with the first stage. After the booster contacted the ship, it tipped over due to excess lateral velocity caused by a stuck throttle valve that delayed downthrottle at the correct time.<sup class=\"reference\" id=\"cite_ref-91\"><a href=\"#cite_note-91\"><span class=\"cite-bracket\">[</span>84<span class=\"cite-bracket\">]</span></a></sup><sup class=\"reference\" id=\"cite_ref-92\"><a href=\"#cite_note-92\"><span class=\"cite-bracket\">[</span>85<span class=\"cite-bracket\">]</span></a></sup>\n",
      "</td></tr>\n",
      "<tr>\n",
      "<th rowspan=\"2\" scope=\"row\" style=\"text-align:center;\">18\n",
      "</th>\n",
      "<td>27 April 2015,<br/>23:03<sup class=\"reference\" id=\"cite_ref-patrickafb20150414_93-0\"><a href=\"#cite_note-patrickafb20150414-93\"><span class=\"cite-bracket\">[</span>86<span class=\"cite-bracket\">]</span></a></sup>\n",
      "</td>\n",
      "<td><a href=\"/wiki/Falcon_9_v1.1\" title=\"Falcon 9 v1.1\">F9 v1.1</a><br/>B1016<sup class=\"reference\" id=\"cite_ref-block_numbers_14-12\"><a href=\"#cite_note-block_numbers-14\"><span class=\"cite-bracket\">[</span>8<span class=\"cite-bracket\">]</span></a></sup>\n",
      "</td>\n",
      "<td><a href=\"/wiki/Cape_Canaveral_Space_Force_Station\" title=\"Cape Canaveral Space Force Station\">Cape Canaveral</a>,<br/><a href=\"/wiki/Cape_Canaveral_Space_Launch_Complex_40\" title=\"Cape Canaveral Space Launch Complex 40\">LC-40</a>\n",
      "</td>\n",
      "<td><a href=\"/wiki/T%C3%BCrkmen%C3%84lem_52%C2%B0E_/_MonacoSAT\" title=\"TürkmenÄlem 52°E / MonacoSAT\">TürkmenÄlem 52°E / MonacoSAT</a><sup class=\"reference\" id=\"cite_ref-sxManifest20130731_75-4\"><a href=\"#cite_note-sxManifest20130731-75\"><span class=\"cite-bracket\">[</span>68<span class=\"cite-bracket\">]</span></a></sup><sup class=\"reference\" id=\"cite_ref-turkmen-monaco_94-0\"><a href=\"#cite_note-turkmen-monaco-94\"><span class=\"cite-bracket\">[</span>87<span class=\"cite-bracket\">]</span></a></sup>\n",
      "</td>\n",
      "<td>4,707 kg (10,377 lb)\n",
      "</td>\n",
      "<td><a href=\"/wiki/Geostationary_transfer_orbit\" title=\"Geostationary transfer orbit\">GTO</a>\n",
      "</td>\n",
      "<td><a href=\"/wiki/Turkmenistan_National_Space_Agency\" title=\"Turkmenistan National Space Agency\">Turkmenistan National<br/>Space Agency</a><sup class=\"reference\" id=\"cite_ref-95\"><a href=\"#cite_note-95\"><span class=\"cite-bracket\">[</span>88<span class=\"cite-bracket\">]</span></a></sup>\n",
      "</td>\n",
      "<td class=\"table-success\" style=\"background: #9EFF9E; color:black; vertical-align: middle; text-align: center;\">Success\n",
      "</td>\n",
      "<td class=\"table-noAttempt\" style=\"background: #EEE; color:black; vertical-align: middle; white-space: nowrap; text-align: center;\">No attempt<sup class=\"reference\" id=\"cite_ref-96\"><a href=\"#cite_note-96\"><span class=\"cite-bracket\">[</span>89<span class=\"cite-bracket\">]</span></a></sup>\n",
      "</td></tr>\n",
      "<tr>\n",
      "<td colspan=\"9\">Original intended launch was delayed over a month after an issue with the helium pressurisation system was identified on similar parts in the assembly plant.<sup class=\"reference\" id=\"cite_ref-zgn20150323_97-0\"><a href=\"#cite_note-zgn20150323-97\"><span class=\"cite-bracket\">[</span>90<span class=\"cite-bracket\">]</span></a></sup> Subsequent launch successfully positioned this first Turkmen satellite at 52.0° east.\n",
      "</td></tr>\n",
      "<tr>\n",
      "<th rowspan=\"2\" scope=\"row\" style=\"text-align:center;\">19\n",
      "</th>\n",
      "<td>28 June 2015,<br/>14:21<sup class=\"reference\" id=\"cite_ref-SFN_LLog_27-5\"><a href=\"#cite_note-SFN_LLog-27\"><span class=\"cite-bracket\">[</span>21<span class=\"cite-bracket\">]</span></a></sup><sup class=\"reference\" id=\"cite_ref-nasama20150520_98-0\"><a href=\"#cite_note-nasama20150520-98\"><span class=\"cite-bracket\">[</span>91<span class=\"cite-bracket\">]</span></a></sup>\n",
      "</td>\n",
      "<td><a href=\"/wiki/Falcon_9_v1.1\" title=\"Falcon 9 v1.1\">F9 v1.1</a><br/>B1018<sup class=\"reference\" id=\"cite_ref-block_numbers_14-13\"><a href=\"#cite_note-block_numbers-14\"><span class=\"cite-bracket\">[</span>8<span class=\"cite-bracket\">]</span></a></sup>\n",
      "</td>\n",
      "<td><a href=\"/wiki/Cape_Canaveral_Space_Force_Station\" title=\"Cape Canaveral Space Force Station\">Cape Canaveral</a>,<br/><a href=\"/wiki/Cape_Canaveral_Space_Launch_Complex_40\" title=\"Cape Canaveral Space Launch Complex 40\">LC-40</a>\n",
      "</td>\n",
      "<td><a href=\"/wiki/SpaceX_CRS-7\" title=\"SpaceX CRS-7\">SpaceX CRS-7</a><sup class=\"reference\" id=\"cite_ref-sxManifest20130731_75-5\"><a href=\"#cite_note-sxManifest20130731-75\"><span class=\"cite-bracket\">[</span>68<span class=\"cite-bracket\">]</span></a></sup><br/>(Dragon C109)\n",
      "</td>\n",
      "<td>1,952 kg (4,303 lb)<sup class=\"reference\" id=\"cite_ref-99\"><a href=\"#cite_note-99\"><span class=\"cite-bracket\">[</span>92<span class=\"cite-bracket\">]</span></a></sup>\n",
      "</td>\n",
      "<td><a class=\"mw-redirect\" href=\"/wiki/Low_Earth_Orbit\" title=\"Low Earth Orbit\">LEO</a> (<a class=\"mw-redirect\" href=\"/wiki/ISS\" title=\"ISS\">ISS</a>)\n",
      "</td>\n",
      "<td><a href=\"/wiki/NASA\" title=\"NASA\">NASA</a> (<a href=\"/wiki/Commercial_Resupply_Services\" title=\"Commercial Resupply Services\">CRS</a>)\n",
      "</td>\n",
      "<td class=\"table-failure\" style=\"background: #FFC7C7; color:black; vertical-align: middle; text-align: center;\">Failure<sup class=\"reference\" id=\"cite_ref-nyt-20150628_100-0\"><a href=\"#cite_note-nyt-20150628-100\"><span class=\"cite-bracket\">[</span>93<span class=\"cite-bracket\">]</span></a></sup><br/><small>(in flight)</small>\n",
      "</td>\n",
      "<td style=\"background:#ececec; text-align:center;\">Precluded<sup class=\"reference\" id=\"cite_ref-101\"><a href=\"#cite_note-101\"><span class=\"cite-bracket\">[</span>94<span class=\"cite-bracket\">]</span></a></sup><br/><small><span class=\"nowrap\">(drone ship)</span></small>\n",
      "</td></tr>\n",
      "<tr>\n",
      "<td colspan=\"9\">Launch performance was nominal until an overpressure incident in the second-stage <a class=\"mw-redirect\" href=\"/wiki/LOX\" title=\"LOX\">LOX</a> tank, leading to vehicle breakup at T+150 seconds. Dragon capsule survived the explosion but was lost upon splashdown as its software did not contain provisions for parachute deployment on launch vehicle failure.<sup class=\"reference\" id=\"cite_ref-nsf-20150727_102-0\"><a href=\"#cite_note-nsf-20150727-102\"><span class=\"cite-bracket\">[</span>95<span class=\"cite-bracket\">]</span></a></sup><small>(<a href=\"#Loss_of_CRS-7_mission\">more details below</a>)</small> The drone ship <i>Of Course I Still Love You</i> was towed out to sea to prepare for a landing test so this mission was its first operational assignment.<sup class=\"reference\" id=\"cite_ref-nsf20150618_103-0\"><a href=\"#cite_note-nsf20150618-103\"><span class=\"cite-bracket\">[</span>96<span class=\"cite-bracket\">]</span></a></sup>\n",
      "</td></tr>\n",
      "<tr>\n",
      "<th rowspan=\"2\" scope=\"row\" style=\"text-align:center;\">20\n",
      "</th>\n",
      "<td>22 December 2015,<br/>01:29<sup class=\"reference\" id=\"cite_ref-orbcomm-og2_104-0\"><a href=\"#cite_note-orbcomm-og2-104\"><span class=\"cite-bracket\">[</span>97<span class=\"cite-bracket\">]</span></a></sup>\n",
      "</td>\n",
      "<td><a href=\"/wiki/Falcon_9_Full_Thrust\" title=\"Falcon 9 Full Thrust\">F9 FT</a><br/>B1019.1<sup class=\"reference\" id=\"cite_ref-flight20-booster_105-0\"><a href=\"#cite_note-flight20-booster-105\"><span class=\"cite-bracket\">[</span>98<span class=\"cite-bracket\">]</span></a></sup>\n",
      "</td>\n",
      "<td><a href=\"/wiki/Cape_Canaveral_Space_Force_Station\" title=\"Cape Canaveral Space Force Station\">Cape Canaveral</a>,<br/><a href=\"/wiki/Cape_Canaveral_Space_Launch_Complex_40\" title=\"Cape Canaveral Space Launch Complex 40\">LC-40</a>\n",
      "</td>\n",
      "<td><a class=\"mw-redirect\" href=\"/wiki/Orbcomm-OG2\" title=\"Orbcomm-OG2\">Orbcomm-OG2</a>-2<br/>(11 satellites)<sup class=\"reference\" id=\"cite_ref-sxManifest20120925_28-10\"><a href=\"#cite_note-sxManifest20120925-28\"><span class=\"cite-bracket\">[</span>22<span class=\"cite-bracket\">]</span></a></sup><sup class=\"reference\" id=\"cite_ref-orbcomm-og2_104-1\"><a href=\"#cite_note-orbcomm-og2-104\"><span class=\"cite-bracket\">[</span>97<span class=\"cite-bracket\">]</span></a></sup>\n",
      "</td>\n",
      "<td>2,034 kg (4,484 lb)\n",
      "</td>\n",
      "<td><a class=\"mw-redirect\" href=\"/wiki/Low_Earth_Orbit\" title=\"Low Earth Orbit\">LEO</a>\n",
      "</td>\n",
      "<td><a href=\"/wiki/Orbcomm\" title=\"Orbcomm\">Orbcomm</a>\n",
      "</td>\n",
      "<td class=\"table-success\" style=\"background: #9EFF9E; color:black; vertical-align: middle; text-align: center;\">Success\n",
      "</td>\n",
      "<td class=\"table-success\" style=\"background: #9EFF9E; color:black; vertical-align: middle; text-align: center;\">Success<sup class=\"reference\" id=\"cite_ref-flight20-landing_106-0\"><a href=\"#cite_note-flight20-landing-106\"><span class=\"cite-bracket\">[</span>99<span class=\"cite-bracket\">]</span></a></sup><br/><small><span class=\"nowrap\">(ground pad)</span></small>\n",
      "</td></tr>\n",
      "<tr>\n",
      "<td colspan=\"9\">Payload included eleven satellites weighing 172 kg (379 lb) each,<sup class=\"reference\" id=\"cite_ref-gunter-og2_30-2\"><a href=\"#cite_note-gunter-og2-30\"><span class=\"cite-bracket\">[</span>24<span class=\"cite-bracket\">]</span></a></sup> and a 142 kg (313 lb) mass simulator.<sup class=\"reference\" id=\"cite_ref-gunter-og2-sim_59-1\"><a href=\"#cite_note-gunter-og2-sim-59\"><span class=\"cite-bracket\">[</span>52<span class=\"cite-bracket\">]</span></a></sup> First launch of the upgraded v1.1 version, with a 30% power increase.<sup class=\"reference\" id=\"cite_ref-sn20151016_107-0\"><a href=\"#cite_note-sn20151016-107\"><span class=\"cite-bracket\">[</span>100<span class=\"cite-bracket\">]</span></a></sup> Orbcomm had originally agreed to be the third flight of the enhanced-thrust rocket,<sup class=\"reference\" id=\"cite_ref-sn20150508_108-0\"><a href=\"#cite_note-sn20150508-108\"><span class=\"cite-bracket\">[</span>101<span class=\"cite-bracket\">]</span></a></sup> but the change to the maiden flight position was announced in October 2015.<sup class=\"reference\" id=\"cite_ref-sn20151016_107-1\"><a href=\"#cite_note-sn20151016-107\"><span class=\"cite-bracket\">[</span>100<span class=\"cite-bracket\">]</span></a></sup> SpaceX received a permit from the <a class=\"mw-redirect\" href=\"/wiki/FAA\" title=\"FAA\">FAA</a> to land the booster <a href=\"/wiki/Landing_Zones_1_and_2\" title=\"Landing Zones 1 and 2\">on solid ground</a> at <a href=\"/wiki/Cape_Canaveral_Space_Force_Station\" title=\"Cape Canaveral Space Force Station\">Cape Canaveral</a><sup class=\"reference\" id=\"cite_ref-109\"><a href=\"#cite_note-109\"><span class=\"cite-bracket\">[</span>102<span class=\"cite-bracket\">]</span></a></sup> and succeeded for the first time.<sup class=\"reference\" id=\"cite_ref-flight20-landing_106-1\"><a href=\"#cite_note-flight20-landing-106\"><span class=\"cite-bracket\">[</span>99<span class=\"cite-bracket\">]</span></a></sup> This booster, serial number <a class=\"mw-redirect\" href=\"/wiki/B1019\" title=\"B1019\">B1019</a>, is now on permanent display outside SpaceX's headquarters in <a href=\"/wiki/Hawthorne,_California\" title=\"Hawthorne, California\">Hawthorne, California</a>, at the intersection of Crenshaw Boulevard and Jack Northrop Avenue.<sup class=\"reference\" id=\"cite_ref-flight20-booster_105-1\"><a href=\"#cite_note-flight20-booster-105\"><span class=\"cite-bracket\">[</span>98<span class=\"cite-bracket\">]</span></a></sup> <small>(<a href=\"#Full-thrust_version_and_first_booster_landings\">more details below</a>)</small>\n",
      "</td></tr></tbody></table>\n"
     ]
    }
   ],
   "execution_count": 9
  },
  {
   "cell_type": "markdown",
   "metadata": {},
   "source": [
    "You should able to see the columns names embedded in the table header elements `<th>` as follows:\n"
   ]
  },
  {
   "cell_type": "markdown",
   "metadata": {},
   "source": [
    "```\n",
    "<tr>\n",
    "<th scope=\"col\">Flight No.\n",
    "</th>\n",
    "<th scope=\"col\">Date and<br/>time (<a href=\"/wiki/Coordinated_Universal_Time\" title=\"Coordinated Universal Time\">UTC</a>)\n",
    "</th>\n",
    "<th scope=\"col\"><a href=\"/wiki/List_of_Falcon_9_first-stage_boosters\" title=\"List of Falcon 9 first-stage boosters\">Version,<br/>Booster</a> <sup class=\"reference\" id=\"cite_ref-booster_11-0\"><a href=\"#cite_note-booster-11\">[b]</a></sup>\n",
    "</th>\n",
    "<th scope=\"col\">Launch site\n",
    "</th>\n",
    "<th scope=\"col\">Payload<sup class=\"reference\" id=\"cite_ref-Dragon_12-0\"><a href=\"#cite_note-Dragon-12\">[c]</a></sup>\n",
    "</th>\n",
    "<th scope=\"col\">Payload mass\n",
    "</th>\n",
    "<th scope=\"col\">Orbit\n",
    "</th>\n",
    "<th scope=\"col\">Customer\n",
    "</th>\n",
    "<th scope=\"col\">Launch<br/>outcome\n",
    "</th>\n",
    "<th scope=\"col\"><a href=\"/wiki/Falcon_9_first-stage_landing_tests\" title=\"Falcon 9 first-stage landing tests\">Booster<br/>landing</a>\n",
    "</th></tr>\n",
    "```\n"
   ]
  },
  {
   "cell_type": "markdown",
   "metadata": {},
   "source": [
    "Next, we just need to iterate through the `<th>` elements and apply the provided `extract_column_from_header()` to extract column name one by one\n"
   ]
  },
  {
   "cell_type": "code",
   "metadata": {
    "ExecuteTime": {
     "end_time": "2024-12-14T20:30:28.861419Z",
     "start_time": "2024-12-14T20:30:28.856528Z"
    }
   },
   "source": [
    "column_names = []\n",
    "\n",
    "# Apply find_all() function with `th` element on first_launch_table\n",
    "for th in first_launch_table.find_all('th'):\n",
    "    name = extract_column_from_header(th)\n",
    "    if name is not None and len(name) > 0:\n",
    "        column_names.append(name)\n",
    "# Iterate each th element and apply the provided extract_column_from_header() to get a column name\n",
    "\n",
    "# Append the Non-empty column name (`if name is not None and len(name) > 0`) into a list called column_names\n"
   ],
   "outputs": [],
   "execution_count": 12
  },
  {
   "cell_type": "markdown",
   "metadata": {},
   "source": [
    "Check the extracted column names\n"
   ]
  },
  {
   "cell_type": "code",
   "metadata": {
    "ExecuteTime": {
     "end_time": "2024-12-14T20:30:33.731543Z",
     "start_time": "2024-12-14T20:30:33.727225Z"
    }
   },
   "source": [
    "print(column_names)"
   ],
   "outputs": [
    {
     "name": "stdout",
     "output_type": "stream",
     "text": [
      "['Flight No.', 'Date and time ( )', 'Launch site', 'Payload', 'Payload mass', 'Orbit', 'Customer', 'Launch outcome']\n"
     ]
    }
   ],
   "execution_count": 13
  },
  {
   "cell_type": "markdown",
   "metadata": {},
   "source": [
    "## TASK 3: Create a data frame by parsing the launch HTML tables\n"
   ]
  },
  {
   "cell_type": "markdown",
   "metadata": {},
   "source": [
    "We will create an empty dictionary with keys from the extracted column names in the previous task. Later, this dictionary will be converted into a Pandas dataframe\n"
   ]
  },
  {
   "cell_type": "code",
   "metadata": {
    "ExecuteTime": {
     "end_time": "2024-12-14T20:31:11.219243Z",
     "start_time": "2024-12-14T20:31:11.215214Z"
    }
   },
   "source": [
    "launch_dict= dict.fromkeys(column_names)\n\n# Remove an irrelvant column\ndel launch_dict['Date and time ( )']\n\n# Let's initial the launch_dict with each value to be an empty list\nlaunch_dict['Flight No.'] = []\nlaunch_dict['Launch site'] = []\nlaunch_dict['Payload'] = []\nlaunch_dict['Payload mass'] = []\nlaunch_dict['Orbit'] = []\nlaunch_dict['Customer'] = []\nlaunch_dict['Launch outcome'] = []\n# Added some new columns\nlaunch_dict['Version Booster']=[]\nlaunch_dict['Booster landing']=[]\nlaunch_dict['Date']=[]\nlaunch_dict['Time']=[]"
   ],
   "outputs": [],
   "execution_count": 14
  },
  {
   "cell_type": "markdown",
   "metadata": {},
   "source": [
    "Next, we just need to fill up the `launch_dict` with launch records extracted from table rows.\n"
   ]
  },
  {
   "cell_type": "markdown",
   "metadata": {},
   "source": [
    "Usually, HTML tables in Wiki pages are likely to contain unexpected annotations and other types of noises, such as reference links `B0004.1[8]`, missing values `N/A [e]`, inconsistent formatting, etc.\n"
   ]
  },
  {
   "cell_type": "markdown",
   "metadata": {},
   "source": [
    "To simplify the parsing process, we have provided an incomplete code snippet below to help you to fill up the `launch_dict`. Please complete the following code snippet with TODOs or you can choose to write your own logic to parse all launch tables:\n"
   ]
  },
  {
   "cell_type": "code",
   "metadata": {
    "ExecuteTime": {
     "end_time": "2024-12-14T20:45:59.771258Z",
     "start_time": "2024-12-14T20:45:59.689809Z"
    }
   },
   "source": [
    "extracted_row = 0\n",
    "#Extract each table \n",
    "for table_number,table in enumerate(soup.find_all('table',\"wikitable plainrowheaders collapsible\")):\n",
    "   # get table row \n",
    "    for rows in table.find_all(\"tr\"):\n",
    "        #check to see if first table heading is as number corresponding to launch a number \n",
    "        if rows.th:\n",
    "            if rows.th.string:\n",
    "                flight_number=rows.th.string.strip()\n",
    "                flag=flight_number.isdigit()\n",
    "        else:\n",
    "            flag=False\n",
    "        #get table element \n",
    "        row=rows.find_all('td')\n",
    "        #if it is number save cells in a dictonary \n",
    "        if flag:\n",
    "            extracted_row += 1\n",
    "            # Flight Number value\n",
    "            # TODO: Append the flight_number into launch_dict with key `Flight No.`\n",
    "            datatimelist=date_time(row[0])\n",
    "            launch_dict['Flight No.'].append(datatimelist[0])\n",
    "            #print(flight_number)\n",
    "\n",
    "            # Date value\n",
    "            # TODO: Append the date into launch_dict with key `Date`\n",
    "            date = datatimelist[0].strip(',')\n",
    "            launch_dict['Date'].append(date)\n",
    "            #print(date)\n",
    "            \n",
    "            # Time value\n",
    "            # TODO: Append the time into launch_dict with key `Time`\n",
    "            time = datatimelist[1]\n",
    "            launch_dict['Time'].append(time)\n",
    "            #print(time)\n",
    "              \n",
    "            # Booster version\n",
    "            # TODO: Append the bv into launch_dict with key `Version Booster`\n",
    "            bv=booster_version(row[1])\n",
    "            if not(bv):\n",
    "                bv=row[1].a.string\n",
    "\n",
    "            launch_dict['Version Booster'].append(bv)\n",
    "            #print(bv)\n",
    "            \n",
    "            # Launch Site\n",
    "            # TODO: Append the bv into launch_dict with key `Launch Site`\n",
    "            launch_site = row[2].a.string\n",
    "            launch_dict['Launch site'].append(launch_site)\n",
    "            #print(launch_site)\n",
    "            \n",
    "            # Payload\n",
    "            # TODO: Append the payload into launch_dict with key `Payload`\n",
    "            payload = row[3].a.string\n",
    "            launch_dict['Payload'].append(payload)\n",
    "            #print(payload)\n",
    "            \n",
    "            # Payload Mass\n",
    "            # TODO: Append the payload_mass into launch_dict with key `Payload mass`\n",
    "            payload_mass = get_mass(row[4])\n",
    "            launch_dict['Payload mass'].append(payload_mass)\n",
    "            #print(payload)\n",
    "            \n",
    "            # Orbit\n",
    "            # TODO: Append the orbit into launch_dict with key `Orbit`\n",
    "            orbit = row[5].a.string\n",
    "            launch_dict['Orbit'].append(orbit)\n",
    "            #print(orbit)\n",
    "            \n",
    "            # Customer\n",
    "            # TODO: Append the customer into launch_dict with key `Customer`\n",
    "\n",
    "            # Safely check if `row[6].a` is not None and then access its `.string`\n",
    "            customer_tag = row[6].a  # Access the <a> tag inside row[6]\n",
    "            if customer_tag:\n",
    "                customer = customer_tag.string if customer_tag.string else \"Unknown Customer\"\n",
    "            else:\n",
    "                customer = \"Unknown Customer\"\n",
    "\n",
    "            # Append to the launch_dict with a fallback value if the data is missing\n",
    "            launch_dict['Customer'].append(customer)\n",
    "\n",
    "            # Launch outcome\n",
    "            # TODO: Append the launch_outcome into launch_dict with key `Launch outcome`\n",
    "            launch_outcome = list(row[7].strings)[0]\n",
    "            launch_dict['Launch outcome'].append(launch_outcome)\n",
    "            #print(launch_outcome)\n",
    "            \n",
    "            # Booster landing\n",
    "            # TODO: Append the launch_outcome into launch_dict with key `Booster landing`\n",
    "            booster_landing = landing_status(row[8])\n",
    "            launch_dict['Booster landing'].append(booster_landing)\n",
    "            #print(booster_landing)\n",
    "print(launch_dict)"
   ],
   "outputs": [
    {
     "name": "stdout",
     "output_type": "stream",
     "text": [
      "{'Flight No.': ['1', '2', '3', '4', '5', '6', '7', '8', '9', '10', '11', '12', '13', '14', '15', '16', '17', '18', '19', '20', '21', '22', '23', '24', '25', '26', '27', '28', '29', '30', '31', '32', '33', '34', '35', '36', '37', '38', '39', '40', '41', '42', '43', '44', '45', '46', '47', '48', '49', '50', '51', '52', '53', '54', '55', '56', '57', '58', '59', '60', '61', '62', '63', '64', '65', '66', '67', '68', '69', '70', '71', '72', '73', '74', '75', '76', '77', '78', '79', '80', '81', '82', '83', '84', '85', '86', '87', '88', '89', '90', '91', '92', '93', '94', '95', '96', '97', '98', '99', '100', '101', '102', '103', '104', '105', '106', '4 June 2010,', '8 December 2010,', '22 May 2012,', '8 October 2012,', '1 March 2013,', '29 September 2013,', '3 December 2013,', '6 January 2014,', '18 April 2014,', '14 July 2014,', '5 August 2014,', '7 September 2014,', '21 September 2014,', '10 January 2015,', '11 February 2015,', '2 March 2015,', '14 April 2015,', '27 April 2015,', '28 June 2015,', '22 December 2015,', '17 January 2016,', '4 March 2016,', '8 April 2016,', '6 May 2016,', '27 May 2016,', '15 June 2016,', '18 July 2016,', '14 August 2016,', '14 January 2017,', '19 February 2017,', '16 March 2017,', '30 March 2017,', '1 May 2017,', '15 May 2017,', '3 June 2017,', '23 June 2017,', '25 June 2017,', '5 July 2017,', '14 August 2017,', '24 August 2017,', '7 September 2017,', '9 October 2017,', '11 October 2017,', '30 October 2017,', '15 December 2017,', '23 December 2017,', '8 January 2018,', '31 January 2018,', '22 February 2018,', '6 March 2018,', '30 March 2018,', '2 April 2018,', '18 April 2018,', '11 May 2018,', '22 May 2018,', '4 June 2018,', '29 June 2018,', '22 July 2018,', '25 July 2018,', '7 August 2018,', '10 September 2018,', '8 October 2018,', '15 November 2018,', '3 December 2018,', '5 December 2018,', '23 December 2018,', '11 January 2019,', '22 February 2019,', '2 March 2019,', '4 May 2019,', '24 May 2019,', '12 June 2019,', '25 July 2019,', '6 August 2019,', '11 November 2019,', '5 December 2019,', '17 December 2019,', '7 January 2020,', '19 January 2020,', '29 January 2020,', '17 February 2020,', '7 March 2020,', '18 March 2020,', '22 April 2020,', '30 May 2020,', '4 June 2020,', '13 June 2020,', '30 June 2020,', '20 July 2020,', '7 August 2020,', '18 August 2020', '30 August 2020', '3 September 2020', '6 October 2020', '18 October 2020', '24 October 2020', '5 November 2020', '16 November 2020', '21 November 2020', '25 November 2020', '6 December 2020', '13 December 2020', '19 December 2020', '8 January 2021', '20 January 2021', '24 January 2021', '4 June 2010,', '8 December 2010,', '22 May 2012,', '8 October 2012,', '1 March 2013,', '29 September 2013,', '3 December 2013,', '6 January 2014,', '18 April 2014,', '14 July 2014,', '5 August 2014,', '7 September 2014,', '21 September 2014,', '10 January 2015,', '11 February 2015,', '2 March 2015,', '14 April 2015,', '27 April 2015,', '28 June 2015,', '22 December 2015,', '17 January 2016,', '4 March 2016,', '8 April 2016,', '6 May 2016,', '27 May 2016,', '15 June 2016,', '18 July 2016,', '14 August 2016,', '14 January 2017,', '19 February 2017,', '16 March 2017,', '30 March 2017,', '1 May 2017,', '15 May 2017,', '3 June 2017,', '23 June 2017,', '25 June 2017,', '5 July 2017,', '14 August 2017,', '24 August 2017,', '7 September 2017,', '9 October 2017,', '11 October 2017,', '30 October 2017,', '15 December 2017,', '23 December 2017,', '8 January 2018,', '31 January 2018,', '22 February 2018,', '6 March 2018,', '30 March 2018,', '2 April 2018,', '18 April 2018,', '11 May 2018,', '22 May 2018,', '4 June 2018,', '29 June 2018,', '22 July 2018,', '25 July 2018,', '7 August 2018,', '10 September 2018,', '8 October 2018,', '15 November 2018,', '3 December 2018,', '5 December 2018,', '23 December 2018,', '11 January 2019,', '22 February 2019,', '2 March 2019,', '4 May 2019,', '24 May 2019,', '12 June 2019,', '25 July 2019,', '6 August 2019,', '11 November 2019,', '5 December 2019,', '17 December 2019,', '7 January 2020,', '19 January 2020,', '29 January 2020,', '17 February 2020,', '7 March 2020,', '18 March 2020,', '22 April 2020,', '30 May 2020,', '4 June 2020,', '13 June 2020,', '30 June 2020,', '20 July 2020,', '7 August 2020,', '18 August 2020', '30 August 2020', '3 September 2020', '6 October 2020', '18 October 2020', '24 October 2020', '5 November 2020', '16 November 2020', '21 November 2020', '25 November 2020', '6 December 2020', '13 December 2020', '19 December 2020', '8 January 2021', '20 January 2021', '24 January 2021', '4 June 2010,', '8 December 2010,', '22 May 2012,', '8 October 2012,', '1 March 2013,', '29 September 2013,', '3 December 2013,', '6 January 2014,', '18 April 2014,', '14 July 2014,', '5 August 2014,', '7 September 2014,', '21 September 2014,', '10 January 2015,', '11 February 2015,', '2 March 2015,', '14 April 2015,', '27 April 2015,', '28 June 2015,', '22 December 2015,', '17 January 2016,', '4 March 2016,', '8 April 2016,', '6 May 2016,', '27 May 2016,', '15 June 2016,', '18 July 2016,', '14 August 2016,', '14 January 2017,', '19 February 2017,', '16 March 2017,', '30 March 2017,', '1 May 2017,', '15 May 2017,', '3 June 2017,', '23 June 2017,', '25 June 2017,', '5 July 2017,', '14 August 2017,', '24 August 2017,', '7 September 2017,', '9 October 2017,', '11 October 2017,', '30 October 2017,', '15 December 2017,', '23 December 2017,', '8 January 2018,', '31 January 2018,', '22 February 2018,', '6 March 2018,', '30 March 2018,', '2 April 2018,', '18 April 2018,', '11 May 2018,', '22 May 2018,', '4 June 2018,', '29 June 2018,', '22 July 2018,', '25 July 2018,', '7 August 2018,', '10 September 2018,', '8 October 2018,', '15 November 2018,', '3 December 2018,', '5 December 2018,', '23 December 2018,', '11 January 2019,', '22 February 2019,', '2 March 2019,', '4 May 2019,', '24 May 2019,', '12 June 2019,', '25 July 2019,', '6 August 2019,', '11 November 2019,', '5 December 2019,', '17 December 2019,', '7 January 2020,', '19 January 2020,', '29 January 2020,', '17 February 2020,', '7 March 2020,', '18 March 2020,', '22 April 2020,', '30 May 2020,', '4 June 2020,', '13 June 2020,', '30 June 2020,', '20 July 2020,', '7 August 2020,', '18 August 2020', '30 August 2020', '3 September 2020', '6 October 2020', '18 October 2020', '24 October 2020', '5 November 2020', '16 November 2020', '21 November 2020', '25 November 2020', '6 December 2020', '13 December 2020', '19 December 2020', '8 January 2021', '20 January 2021', '24 January 2021', '4 June 2010,', '8 December 2010,', '22 May 2012,', '8 October 2012,', '1 March 2013,', '29 September 2013,', '3 December 2013,', '6 January 2014,', '18 April 2014,', '14 July 2014,', '5 August 2014,', '7 September 2014,', '21 September 2014,', '10 January 2015,', '11 February 2015,', '2 March 2015,', '14 April 2015,', '27 April 2015,', '28 June 2015,', '22 December 2015,', '17 January 2016,', '4 March 2016,', '8 April 2016,', '6 May 2016,', '27 May 2016,', '15 June 2016,', '18 July 2016,', '14 August 2016,', '14 January 2017,', '19 February 2017,', '16 March 2017,', '30 March 2017,', '1 May 2017,', '15 May 2017,', '3 June 2017,', '23 June 2017,', '25 June 2017,', '5 July 2017,', '14 August 2017,', '24 August 2017,', '7 September 2017,', '9 October 2017,', '11 October 2017,', '30 October 2017,', '15 December 2017,', '23 December 2017,', '8 January 2018,', '31 January 2018,', '22 February 2018,', '6 March 2018,', '30 March 2018,', '2 April 2018,', '18 April 2018,', '11 May 2018,', '22 May 2018,', '4 June 2018,', '29 June 2018,', '22 July 2018,', '25 July 2018,', '7 August 2018,', '10 September 2018,', '8 October 2018,', '15 November 2018,', '3 December 2018,', '5 December 2018,', '23 December 2018,', '11 January 2019,', '22 February 2019,', '2 March 2019,', '4 May 2019,', '24 May 2019,', '12 June 2019,', '25 July 2019,', '6 August 2019,', '11 November 2019,', '5 December 2019,', '17 December 2019,', '7 January 2020,', '19 January 2020,', '29 January 2020,', '17 February 2020,', '7 March 2020,', '18 March 2020,', '22 April 2020,', '30 May 2020,', '4 June 2020,', '13 June 2020,', '30 June 2020,', '20 July 2020,', '7 August 2020,', '18 August 2020', '30 August 2020', '3 September 2020', '6 October 2020', '18 October 2020', '24 October 2020', '5 November 2020', '16 November 2020', '21 November 2020', '25 November 2020', '6 December 2020', '13 December 2020', '19 December 2020', '8 January 2021', '20 January 2021', '24 January 2021', '4 February 2021', '16 February 2021', '4 March 2021', '11 March 2021', '14 March 2021', '24 March 2021', '7 April 2021', '23 April 2021', '29 April 2021', '4 May 2021', '9 May 2021', '15 May 2021', '26 May 2021', '3 June 2021', '6 June 2021'], 'Launch site': ['CCAFS', 'CCAFS', 'CCAFS', 'CCAFS', 'CCAFS', 'VAFB', 'CCAFS', 'CCAFS', 'Cape Canaveral', 'Cape Canaveral', 'Cape Canaveral', 'Cape Canaveral', 'Cape Canaveral', 'Cape Canaveral', 'Cape Canaveral', 'Cape Canaveral', 'Cape Canaveral', 'Cape Canaveral', 'Cape Canaveral', 'Cape Canaveral', 'VAFB', 'Cape Canaveral', 'Cape Canaveral', 'Cape Canaveral', 'Cape Canaveral', 'Cape Canaveral', 'Cape Canaveral', 'Cape Canaveral', 'VAFB', 'KSC', 'KSC', 'KSC', 'KSC', 'KSC', 'KSC', 'KSC', 'VAFB', 'KSC', 'KSC', 'VAFB', 'KSC', 'VAFB', 'KSC', 'KSC', 'Cape Canaveral', 'VAFB', 'CCAFS', 'CCAFS', 'VAFB', 'CCAFS', 'VAFB', 'CCAFS', 'CCAFS', 'KSC', 'VAFB', 'CCAFS', 'CCAFS', 'CCAFS', 'VAFB', 'CCAFS', 'CCAFS', 'VAFB', 'KSC', 'VAFB', 'CCAFS', 'CCAFS', 'VAFB', 'CCAFS', 'KSC', 'CCAFS', 'CCAFS', 'VAFB', 'CCAFS', 'CCAFS', 'CCAFS', 'CCAFS', 'CCAFS', 'CCAFS', 'KSC', 'CCAFS', 'CCAFS', 'CCAFS', 'KSC', 'KSC', 'KSC', 'CCAFS', 'CCAFS', 'CCAFS', 'CCAFS', 'KSC', 'CCAFS', 'CCAFS', 'KSC', 'KSC', 'KSC', 'CCAFS', 'CCAFS', 'KSC', 'VAFB', 'CCAFS', 'KSC', 'CCSFS', 'KSC', 'CCSFS', 'KSC', 'CCSFS', 'CCAFS', 'CCAFS', 'CCAFS', 'CCAFS', 'CCAFS', 'VAFB', 'CCAFS', 'CCAFS', 'Cape Canaveral', 'Cape Canaveral', 'Cape Canaveral', 'Cape Canaveral', 'Cape Canaveral', 'Cape Canaveral', 'Cape Canaveral', 'Cape Canaveral', 'Cape Canaveral', 'Cape Canaveral', 'Cape Canaveral', 'Cape Canaveral', 'VAFB', 'Cape Canaveral', 'Cape Canaveral', 'Cape Canaveral', 'Cape Canaveral', 'Cape Canaveral', 'Cape Canaveral', 'Cape Canaveral', 'VAFB', 'KSC', 'KSC', 'KSC', 'KSC', 'KSC', 'KSC', 'KSC', 'VAFB', 'KSC', 'KSC', 'VAFB', 'KSC', 'VAFB', 'KSC', 'KSC', 'Cape Canaveral', 'VAFB', 'CCAFS', 'CCAFS', 'VAFB', 'CCAFS', 'VAFB', 'CCAFS', 'CCAFS', 'KSC', 'VAFB', 'CCAFS', 'CCAFS', 'CCAFS', 'VAFB', 'CCAFS', 'CCAFS', 'VAFB', 'KSC', 'VAFB', 'CCAFS', 'CCAFS', 'VAFB', 'CCAFS', 'KSC', 'CCAFS', 'CCAFS', 'VAFB', 'CCAFS', 'CCAFS', 'CCAFS', 'CCAFS', 'CCAFS', 'CCAFS', 'KSC', 'CCAFS', 'CCAFS', 'CCAFS', 'KSC', 'KSC', 'KSC', 'CCAFS', 'CCAFS', 'CCAFS', 'CCAFS', 'KSC', 'CCAFS', 'CCAFS', 'KSC', 'KSC', 'KSC', 'CCAFS', 'CCAFS', 'KSC', 'VAFB', 'CCAFS', 'KSC', 'CCSFS', 'KSC', 'CCSFS', 'KSC', 'CCSFS', 'CCAFS', 'CCAFS', 'CCAFS', 'CCAFS', 'CCAFS', 'VAFB', 'CCAFS', 'CCAFS', 'Cape Canaveral', 'Cape Canaveral', 'Cape Canaveral', 'Cape Canaveral', 'Cape Canaveral', 'Cape Canaveral', 'Cape Canaveral', 'Cape Canaveral', 'Cape Canaveral', 'Cape Canaveral', 'Cape Canaveral', 'Cape Canaveral', 'VAFB', 'Cape Canaveral', 'Cape Canaveral', 'Cape Canaveral', 'Cape Canaveral', 'Cape Canaveral', 'Cape Canaveral', 'Cape Canaveral', 'VAFB', 'KSC', 'KSC', 'KSC', 'KSC', 'KSC', 'KSC', 'KSC', 'VAFB', 'KSC', 'KSC', 'VAFB', 'KSC', 'VAFB', 'KSC', 'KSC', 'Cape Canaveral', 'VAFB', 'CCAFS', 'CCAFS', 'VAFB', 'CCAFS', 'VAFB', 'CCAFS', 'CCAFS', 'KSC', 'VAFB', 'CCAFS', 'CCAFS', 'CCAFS', 'VAFB', 'CCAFS', 'CCAFS', 'VAFB', 'KSC', 'VAFB', 'CCAFS', 'CCAFS', 'VAFB', 'CCAFS', 'KSC', 'CCAFS', 'CCAFS', 'VAFB', 'CCAFS', 'CCAFS', 'CCAFS', 'CCAFS', 'CCAFS', 'CCAFS', 'KSC', 'CCAFS', 'CCAFS', 'CCAFS', 'KSC', 'KSC', 'KSC', 'CCAFS', 'CCAFS', 'CCAFS', 'CCAFS', 'KSC', 'CCAFS', 'CCAFS', 'KSC', 'KSC', 'KSC', 'CCAFS', 'CCAFS', 'KSC', 'VAFB', 'CCAFS', 'KSC', 'CCSFS', 'KSC', 'CCSFS', 'KSC', 'CCSFS', 'CCAFS', 'CCAFS', 'CCAFS', 'CCAFS', 'CCAFS', 'VAFB', 'CCAFS', 'CCAFS', 'Cape Canaveral', 'Cape Canaveral', 'Cape Canaveral', 'Cape Canaveral', 'Cape Canaveral', 'Cape Canaveral', 'Cape Canaveral', 'Cape Canaveral', 'Cape Canaveral', 'Cape Canaveral', 'Cape Canaveral', 'Cape Canaveral', 'VAFB', 'Cape Canaveral', 'Cape Canaveral', 'Cape Canaveral', 'Cape Canaveral', 'Cape Canaveral', 'Cape Canaveral', 'Cape Canaveral', 'VAFB', 'KSC', 'KSC', 'KSC', 'KSC', 'KSC', 'KSC', 'KSC', 'VAFB', 'KSC', 'KSC', 'VAFB', 'KSC', 'VAFB', 'KSC', 'KSC', 'Cape Canaveral', 'VAFB', 'CCAFS', 'CCAFS', 'VAFB', 'CCAFS', 'VAFB', 'CCAFS', 'CCAFS', 'KSC', 'VAFB', 'CCAFS', 'CCAFS', 'CCAFS', 'VAFB', 'CCAFS', 'CCAFS', 'VAFB', 'KSC', 'VAFB', 'CCAFS', 'CCAFS', 'VAFB', 'CCAFS', 'KSC', 'CCAFS', 'CCAFS', 'VAFB', 'CCAFS', 'CCAFS', 'CCAFS', 'CCAFS', 'CCAFS', 'CCAFS', 'KSC', 'CCAFS', 'CCAFS', 'CCAFS', 'KSC', 'KSC', 'KSC', 'CCAFS', 'CCAFS', 'CCAFS', 'CCAFS', 'KSC', 'CCAFS', 'CCAFS', 'KSC', 'KSC', 'KSC', 'CCAFS', 'CCAFS', 'KSC', 'VAFB', 'CCAFS', 'KSC', 'CCSFS', 'KSC', 'CCSFS', 'KSC', 'CCSFS', 'CCAFS', 'CCAFS', 'CCAFS', 'CCAFS', 'CCAFS', 'VAFB', 'CCAFS', 'CCAFS', 'Cape Canaveral', 'Cape Canaveral', 'Cape Canaveral', 'Cape Canaveral', 'Cape Canaveral', 'Cape Canaveral', 'Cape Canaveral', 'Cape Canaveral', 'Cape Canaveral', 'Cape Canaveral', 'Cape Canaveral', 'Cape Canaveral', 'VAFB', 'Cape Canaveral', 'Cape Canaveral', 'Cape Canaveral', 'Cape Canaveral', 'Cape Canaveral', 'Cape Canaveral', 'Cape Canaveral', 'VAFB', 'KSC', 'KSC', 'KSC', 'KSC', 'KSC', 'KSC', 'KSC', 'VAFB', 'KSC', 'KSC', 'VAFB', 'KSC', 'VAFB', 'KSC', 'KSC', 'Cape Canaveral', 'VAFB', 'CCAFS', 'CCAFS', 'VAFB', 'CCAFS', 'VAFB', 'CCAFS', 'CCAFS', 'KSC', 'VAFB', 'CCAFS', 'CCAFS', 'CCAFS', 'VAFB', 'CCAFS', 'CCAFS', 'VAFB', 'KSC', 'VAFB', 'CCAFS', 'CCAFS', 'VAFB', 'CCAFS', 'KSC', 'CCAFS', 'CCAFS', 'VAFB', 'CCAFS', 'CCAFS', 'CCAFS', 'CCAFS', 'CCAFS', 'CCAFS', 'KSC', 'CCAFS', 'CCAFS', 'CCAFS', 'KSC', 'KSC', 'KSC', 'CCAFS', 'CCAFS', 'CCAFS', 'CCAFS', 'KSC', 'CCAFS', 'CCAFS', 'KSC', 'KSC', 'KSC', 'CCAFS', 'CCAFS', 'KSC', 'VAFB', 'CCAFS', 'KSC', 'CCSFS', 'KSC', 'CCSFS', 'KSC', 'CCSFS', 'CCSFS', 'CCSFS', 'KSC', 'CCSFS', 'KSC', 'CCSFS', 'CCSFS', 'KSC', 'CCSFS', 'KSC', 'CCSFS', 'KSC', 'CCSFS', 'KSC', 'CCSFS'], 'Payload': ['Dragon Spacecraft Qualification Unit', 'Dragon', 'Dragon', 'SpaceX CRS-1', 'SpaceX CRS-2', 'CASSIOPE', 'SES-8', 'Thaicom 6', 'SpaceX CRS-3', 'Orbcomm-OG2', 'AsiaSat 8', 'AsiaSat 6', 'SpaceX CRS-4', 'SpaceX CRS-5', 'DSCOVR', 'ABS-3A', 'SpaceX CRS-6', 'TürkmenÄlem 52°E / MonacoSAT', 'SpaceX CRS-7', 'Orbcomm-OG2', 'Jason-3', 'SES-9', 'SpaceX CRS-8', 'JCSAT-14', 'Thaicom 8', 'ABS-2A', 'SpaceX CRS-9', 'JCSAT-16', 'Iridium NEXT', 'SpaceX CRS-10', 'EchoStar 23', 'SES-10', 'NROL-76', 'Inmarsat-5 F4', 'SpaceX CRS-11', 'BulgariaSat-1', 'Iridium NEXT', 'Intelsat 35e', 'SpaceX CRS-12', 'Formosat-5', 'Boeing X-37B', 'Iridium NEXT', 'SES-11', 'Koreasat 5A', 'SpaceX CRS-13', 'Iridium NEXT', 'Zuma', 'GovSat-1', 'Paz', 'Hispasat 30W-6', 'Iridium NEXT', 'SpaceX CRS-14', 'Transiting Exoplanet Survey Satellite', 'Bangabandhu-1', 'Iridium NEXT', 'SES-12', 'SpaceX CRS-15', 'Telstar 19V', 'Iridium NEXT', 'Merah Putih', 'Telstar 18V', 'SAOCOM 1A', \"Es'hail 2\", 'SSO-A', 'SpaceX CRS-16', 'GPS III', 'Iridium NEXT', 'Nusantara Satu', 'Crew Dragon Demo-1', 'SpaceX CRS-17', 'Starlink', 'RADARSAT Constellation', 'SpaceX CRS-18', 'AMOS-17', 'Starlink', 'SpaceX CRS-19', 'JCSat-18', 'Starlink', 'Crew Dragon in-flight abort test', 'Starlink', 'Starlink', 'SpaceX CRS-20', 'Starlink', 'Starlink', 'Crew Dragon Demo-2', 'Starlink', 'Starlink', 'GPS III', 'ANASIS-II', 'Starlink', 'Starlink', 'SAOCOM 1B', 'Starlink', 'Starlink', 'Starlink', 'Starlink', 'GPS III', 'Crew-1', 'Sentinel-6 Michael Freilich (Jason-CS A)', 'Starlink', 'SpaceX CRS-21', 'SXM-7', 'NROL-108', 'Türksat 5A', 'Starlink', 'Transporter-1', 'Dragon Spacecraft Qualification Unit', 'Dragon', 'Dragon', 'SpaceX CRS-1', 'SpaceX CRS-2', 'CASSIOPE', 'SES-8', 'Thaicom 6', 'SpaceX CRS-3', 'Orbcomm-OG2', 'AsiaSat 8', 'AsiaSat 6', 'SpaceX CRS-4', 'SpaceX CRS-5', 'DSCOVR', 'ABS-3A', 'SpaceX CRS-6', 'TürkmenÄlem 52°E / MonacoSAT', 'SpaceX CRS-7', 'Orbcomm-OG2', 'Jason-3', 'SES-9', 'SpaceX CRS-8', 'JCSAT-14', 'Thaicom 8', 'ABS-2A', 'SpaceX CRS-9', 'JCSAT-16', 'Iridium NEXT', 'SpaceX CRS-10', 'EchoStar 23', 'SES-10', 'NROL-76', 'Inmarsat-5 F4', 'SpaceX CRS-11', 'BulgariaSat-1', 'Iridium NEXT', 'Intelsat 35e', 'SpaceX CRS-12', 'Formosat-5', 'Boeing X-37B', 'Iridium NEXT', 'SES-11', 'Koreasat 5A', 'SpaceX CRS-13', 'Iridium NEXT', 'Zuma', 'GovSat-1', 'Paz', 'Hispasat 30W-6', 'Iridium NEXT', 'SpaceX CRS-14', 'Transiting Exoplanet Survey Satellite', 'Bangabandhu-1', 'Iridium NEXT', 'SES-12', 'SpaceX CRS-15', 'Telstar 19V', 'Iridium NEXT', 'Merah Putih', 'Telstar 18V', 'SAOCOM 1A', \"Es'hail 2\", 'SSO-A', 'SpaceX CRS-16', 'GPS III', 'Iridium NEXT', 'Nusantara Satu', 'Crew Dragon Demo-1', 'SpaceX CRS-17', 'Starlink', 'RADARSAT Constellation', 'SpaceX CRS-18', 'AMOS-17', 'Starlink', 'SpaceX CRS-19', 'JCSat-18', 'Starlink', 'Crew Dragon in-flight abort test', 'Starlink', 'Starlink', 'SpaceX CRS-20', 'Starlink', 'Starlink', 'Crew Dragon Demo-2', 'Starlink', 'Starlink', 'GPS III', 'ANASIS-II', 'Starlink', 'Starlink', 'SAOCOM 1B', 'Starlink', 'Starlink', 'Starlink', 'Starlink', 'GPS III', 'Crew-1', 'Sentinel-6 Michael Freilich (Jason-CS A)', 'Starlink', 'SpaceX CRS-21', 'SXM-7', 'NROL-108', 'Türksat 5A', 'Starlink', 'Transporter-1', 'Dragon Spacecraft Qualification Unit', 'Dragon', 'Dragon', 'SpaceX CRS-1', 'SpaceX CRS-2', 'CASSIOPE', 'SES-8', 'Thaicom 6', 'SpaceX CRS-3', 'Orbcomm-OG2', 'AsiaSat 8', 'AsiaSat 6', 'SpaceX CRS-4', 'SpaceX CRS-5', 'DSCOVR', 'ABS-3A', 'SpaceX CRS-6', 'TürkmenÄlem 52°E / MonacoSAT', 'SpaceX CRS-7', 'Orbcomm-OG2', 'Jason-3', 'SES-9', 'SpaceX CRS-8', 'JCSAT-14', 'Thaicom 8', 'ABS-2A', 'SpaceX CRS-9', 'JCSAT-16', 'Iridium NEXT', 'SpaceX CRS-10', 'EchoStar 23', 'SES-10', 'NROL-76', 'Inmarsat-5 F4', 'SpaceX CRS-11', 'BulgariaSat-1', 'Iridium NEXT', 'Intelsat 35e', 'SpaceX CRS-12', 'Formosat-5', 'Boeing X-37B', 'Iridium NEXT', 'SES-11', 'Koreasat 5A', 'SpaceX CRS-13', 'Iridium NEXT', 'Zuma', 'GovSat-1', 'Paz', 'Hispasat 30W-6', 'Iridium NEXT', 'SpaceX CRS-14', 'Transiting Exoplanet Survey Satellite', 'Bangabandhu-1', 'Iridium NEXT', 'SES-12', 'SpaceX CRS-15', 'Telstar 19V', 'Iridium NEXT', 'Merah Putih', 'Telstar 18V', 'SAOCOM 1A', \"Es'hail 2\", 'SSO-A', 'SpaceX CRS-16', 'GPS III', 'Iridium NEXT', 'Nusantara Satu', 'Crew Dragon Demo-1', 'SpaceX CRS-17', 'Starlink', 'RADARSAT Constellation', 'SpaceX CRS-18', 'AMOS-17', 'Starlink', 'SpaceX CRS-19', 'JCSat-18', 'Starlink', 'Crew Dragon in-flight abort test', 'Starlink', 'Starlink', 'SpaceX CRS-20', 'Starlink', 'Starlink', 'Crew Dragon Demo-2', 'Starlink', 'Starlink', 'GPS III', 'ANASIS-II', 'Starlink', 'Starlink', 'SAOCOM 1B', 'Starlink', 'Starlink', 'Starlink', 'Starlink', 'GPS III', 'Crew-1', 'Sentinel-6 Michael Freilich (Jason-CS A)', 'Starlink', 'SpaceX CRS-21', 'SXM-7', 'NROL-108', 'Türksat 5A', 'Starlink', 'Transporter-1', 'Dragon Spacecraft Qualification Unit', 'Dragon', 'Dragon', 'SpaceX CRS-1', 'SpaceX CRS-2', 'CASSIOPE', 'SES-8', 'Thaicom 6', 'SpaceX CRS-3', 'Orbcomm-OG2', 'AsiaSat 8', 'AsiaSat 6', 'SpaceX CRS-4', 'SpaceX CRS-5', 'DSCOVR', 'ABS-3A', 'SpaceX CRS-6', 'TürkmenÄlem 52°E / MonacoSAT', 'SpaceX CRS-7', 'Orbcomm-OG2', 'Jason-3', 'SES-9', 'SpaceX CRS-8', 'JCSAT-14', 'Thaicom 8', 'ABS-2A', 'SpaceX CRS-9', 'JCSAT-16', 'Iridium NEXT', 'SpaceX CRS-10', 'EchoStar 23', 'SES-10', 'NROL-76', 'Inmarsat-5 F4', 'SpaceX CRS-11', 'BulgariaSat-1', 'Iridium NEXT', 'Intelsat 35e', 'SpaceX CRS-12', 'Formosat-5', 'Boeing X-37B', 'Iridium NEXT', 'SES-11', 'Koreasat 5A', 'SpaceX CRS-13', 'Iridium NEXT', 'Zuma', 'GovSat-1', 'Paz', 'Hispasat 30W-6', 'Iridium NEXT', 'SpaceX CRS-14', 'Transiting Exoplanet Survey Satellite', 'Bangabandhu-1', 'Iridium NEXT', 'SES-12', 'SpaceX CRS-15', 'Telstar 19V', 'Iridium NEXT', 'Merah Putih', 'Telstar 18V', 'SAOCOM 1A', \"Es'hail 2\", 'SSO-A', 'SpaceX CRS-16', 'GPS III', 'Iridium NEXT', 'Nusantara Satu', 'Crew Dragon Demo-1', 'SpaceX CRS-17', 'Starlink', 'RADARSAT Constellation', 'SpaceX CRS-18', 'AMOS-17', 'Starlink', 'SpaceX CRS-19', 'JCSat-18', 'Starlink', 'Crew Dragon in-flight abort test', 'Starlink', 'Starlink', 'SpaceX CRS-20', 'Starlink', 'Starlink', 'Crew Dragon Demo-2', 'Starlink', 'Starlink', 'GPS III', 'ANASIS-II', 'Starlink', 'Starlink', 'SAOCOM 1B', 'Starlink', 'Starlink', 'Starlink', 'Starlink', 'GPS III', 'Crew-1', 'Sentinel-6 Michael Freilich (Jason-CS A)', 'Starlink', 'SpaceX CRS-21', 'SXM-7', 'NROL-108', 'Türksat 5A', 'Starlink', 'Transporter-1', 'Dragon Spacecraft Qualification Unit', 'Dragon', 'Dragon', 'SpaceX CRS-1', 'SpaceX CRS-2', 'CASSIOPE', 'SES-8', 'Thaicom 6', 'SpaceX CRS-3', 'Orbcomm-OG2', 'AsiaSat 8', 'AsiaSat 6', 'SpaceX CRS-4', 'SpaceX CRS-5', 'DSCOVR', 'ABS-3A', 'SpaceX CRS-6', 'TürkmenÄlem 52°E / MonacoSAT', 'SpaceX CRS-7', 'Orbcomm-OG2', 'Jason-3', 'SES-9', 'SpaceX CRS-8', 'JCSAT-14', 'Thaicom 8', 'ABS-2A', 'SpaceX CRS-9', 'JCSAT-16', 'Iridium NEXT', 'SpaceX CRS-10', 'EchoStar 23', 'SES-10', 'NROL-76', 'Inmarsat-5 F4', 'SpaceX CRS-11', 'BulgariaSat-1', 'Iridium NEXT', 'Intelsat 35e', 'SpaceX CRS-12', 'Formosat-5', 'Boeing X-37B', 'Iridium NEXT', 'SES-11', 'Koreasat 5A', 'SpaceX CRS-13', 'Iridium NEXT', 'Zuma', 'GovSat-1', 'Paz', 'Hispasat 30W-6', 'Iridium NEXT', 'SpaceX CRS-14', 'Transiting Exoplanet Survey Satellite', 'Bangabandhu-1', 'Iridium NEXT', 'SES-12', 'SpaceX CRS-15', 'Telstar 19V', 'Iridium NEXT', 'Merah Putih', 'Telstar 18V', 'SAOCOM 1A', \"Es'hail 2\", 'SSO-A', 'SpaceX CRS-16', 'GPS III', 'Iridium NEXT', 'Nusantara Satu', 'Crew Dragon Demo-1', 'SpaceX CRS-17', 'Starlink', 'RADARSAT Constellation', 'SpaceX CRS-18', 'AMOS-17', 'Starlink', 'SpaceX CRS-19', 'JCSat-18', 'Starlink', 'Crew Dragon in-flight abort test', 'Starlink', 'Starlink', 'SpaceX CRS-20', 'Starlink', 'Starlink', 'Crew Dragon Demo-2', 'Starlink', 'Starlink', 'GPS III', 'ANASIS-II', 'Starlink', 'Starlink', 'SAOCOM 1B', 'Starlink', 'Starlink', 'Starlink', 'Starlink', 'GPS III', 'Crew-1', 'Sentinel-6 Michael Freilich (Jason-CS A)', 'Starlink', 'SpaceX CRS-21', 'SXM-7', 'NROL-108', 'Türksat 5A', 'Starlink', 'Transporter-1', 'Starlink', 'Starlink', 'Starlink', 'Starlink', 'Starlink', 'Starlink', 'Starlink', 'Crew-2', 'Starlink', 'Starlink', 'Starlink', 'Starlink', 'Starlink', 'SpaceX CRS-22', 'SXM-8'], 'Payload mass': [0, 0, '525 kg', '4,700 kg', '4,877 kg', '500 kg', '3,170 kg', '3,325 kg', '2,296 kg', '1,316 kg', '4,535 kg', '4,428 kg', '2,216 kg', '2,395 kg', '570 kg', '4,159 kg', '1,898 kg', '4,707 kg', '1,952 kg', '2,034 kg', '553 kg', '5,271 kg', '3,136 kg', '4,696 kg', '3,100 kg', '3,600 kg', '2,257 kg', '4,600 kg', '9,600 kg', '2,490 kg', '5,600 kg', '5,300 kg', 'C', '6,070 kg', '2,708 kg', '3,669 kg', '9,600 kg', '6,761 kg', '3,310 kg', '475 kg', '4,990 kg', '9,600 kg', '5,200 kg', '3,500 kg', '2,205 kg', '9,600 kg', 'C', '4,230 kg', '2,150 kg', '6,092 kg', '9,600 kg', '2,647 kg', '362 kg', '3,600 kg', '6,460 kg', '5,384 kg', '2,697 kg', '7,075 kg', '9,600 kg', '5,800 kg', '7,060 kg', '3,000 kg', '5,300 kg', '~4,000 kg', '2,500 kg', '4,400 kg', '9,600 kg', '4,850 kg', '12,055 kg', '2,495 kg', '13,620 kg', '4,200 kg', '2,268 kg', '6,500 kg', '15,600 kg', '2,617 kg', '6,956 kg', '15,600 kg', '12,050 kg', '15,600 kg', '15,600 kg', '1,977 kg', '15,600 kg', '15,600 kg', '12,530 kg', '15,600 kg', '15,410 kg', '4,311 kg', '5,000–6,000 kg', '14,932 kg', '~15,440 kg', '3,130 kg', '15,600 kg', '15,600 kg', '15,600 kg', '15,600 kg', '4,311 kg', '~12,500 kg', '1,192 kg', '15,600 kg', '2,972 kg', '7,000 kg', 'C', '3,500 kg', '15,600 kg', '~5,000 kg', 0, 0, '525 kg', '4,700 kg', '4,877 kg', '500 kg', '3,170 kg', '3,325 kg', '2,296 kg', '1,316 kg', '4,535 kg', '4,428 kg', '2,216 kg', '2,395 kg', '570 kg', '4,159 kg', '1,898 kg', '4,707 kg', '1,952 kg', '2,034 kg', '553 kg', '5,271 kg', '3,136 kg', '4,696 kg', '3,100 kg', '3,600 kg', '2,257 kg', '4,600 kg', '9,600 kg', '2,490 kg', '5,600 kg', '5,300 kg', 'C', '6,070 kg', '2,708 kg', '3,669 kg', '9,600 kg', '6,761 kg', '3,310 kg', '475 kg', '4,990 kg', '9,600 kg', '5,200 kg', '3,500 kg', '2,205 kg', '9,600 kg', 'C', '4,230 kg', '2,150 kg', '6,092 kg', '9,600 kg', '2,647 kg', '362 kg', '3,600 kg', '6,460 kg', '5,384 kg', '2,697 kg', '7,075 kg', '9,600 kg', '5,800 kg', '7,060 kg', '3,000 kg', '5,300 kg', '~4,000 kg', '2,500 kg', '4,400 kg', '9,600 kg', '4,850 kg', '12,055 kg', '2,495 kg', '13,620 kg', '4,200 kg', '2,268 kg', '6,500 kg', '15,600 kg', '2,617 kg', '6,956 kg', '15,600 kg', '12,050 kg', '15,600 kg', '15,600 kg', '1,977 kg', '15,600 kg', '15,600 kg', '12,530 kg', '15,600 kg', '15,410 kg', '4,311 kg', '5,000–6,000 kg', '14,932 kg', '~15,440 kg', '3,130 kg', '15,600 kg', '15,600 kg', '15,600 kg', '15,600 kg', '4,311 kg', '~12,500 kg', '1,192 kg', '15,600 kg', '2,972 kg', '7,000 kg', 'C', '3,500 kg', '15,600 kg', '~5,000 kg', 0, 0, '525 kg', '4,700 kg', '4,877 kg', '500 kg', '3,170 kg', '3,325 kg', '2,296 kg', '1,316 kg', '4,535 kg', '4,428 kg', '2,216 kg', '2,395 kg', '570 kg', '4,159 kg', '1,898 kg', '4,707 kg', '1,952 kg', '2,034 kg', '553 kg', '5,271 kg', '3,136 kg', '4,696 kg', '3,100 kg', '3,600 kg', '2,257 kg', '4,600 kg', '9,600 kg', '2,490 kg', '5,600 kg', '5,300 kg', 'C', '6,070 kg', '2,708 kg', '3,669 kg', '9,600 kg', '6,761 kg', '3,310 kg', '475 kg', '4,990 kg', '9,600 kg', '5,200 kg', '3,500 kg', '2,205 kg', '9,600 kg', 'C', '4,230 kg', '2,150 kg', '6,092 kg', '9,600 kg', '2,647 kg', '362 kg', '3,600 kg', '6,460 kg', '5,384 kg', '2,697 kg', '7,075 kg', '9,600 kg', '5,800 kg', '7,060 kg', '3,000 kg', '5,300 kg', '~4,000 kg', '2,500 kg', '4,400 kg', '9,600 kg', '4,850 kg', '12,055 kg', '2,495 kg', '13,620 kg', '4,200 kg', '2,268 kg', '6,500 kg', '15,600 kg', '2,617 kg', '6,956 kg', '15,600 kg', '12,050 kg', '15,600 kg', '15,600 kg', '1,977 kg', '15,600 kg', '15,600 kg', '12,530 kg', '15,600 kg', '15,410 kg', '4,311 kg', '5,000–6,000 kg', '14,932 kg', '~15,440 kg', '3,130 kg', '15,600 kg', '15,600 kg', '15,600 kg', '15,600 kg', '4,311 kg', '~12,500 kg', '1,192 kg', '15,600 kg', '2,972 kg', '7,000 kg', 'C', '3,500 kg', '15,600 kg', '~5,000 kg', 0, 0, '525 kg', '4,700 kg', '4,877 kg', '500 kg', '3,170 kg', '3,325 kg', '2,296 kg', '1,316 kg', '4,535 kg', '4,428 kg', '2,216 kg', '2,395 kg', '570 kg', '4,159 kg', '1,898 kg', '4,707 kg', '1,952 kg', '2,034 kg', '553 kg', '5,271 kg', '3,136 kg', '4,696 kg', '3,100 kg', '3,600 kg', '2,257 kg', '4,600 kg', '9,600 kg', '2,490 kg', '5,600 kg', '5,300 kg', 'C', '6,070 kg', '2,708 kg', '3,669 kg', '9,600 kg', '6,761 kg', '3,310 kg', '475 kg', '4,990 kg', '9,600 kg', '5,200 kg', '3,500 kg', '2,205 kg', '9,600 kg', 'C', '4,230 kg', '2,150 kg', '6,092 kg', '9,600 kg', '2,647 kg', '362 kg', '3,600 kg', '6,460 kg', '5,384 kg', '2,697 kg', '7,075 kg', '9,600 kg', '5,800 kg', '7,060 kg', '3,000 kg', '5,300 kg', '~4,000 kg', '2,500 kg', '4,400 kg', '9,600 kg', '4,850 kg', '12,055 kg', '2,495 kg', '13,620 kg', '4,200 kg', '2,268 kg', '6,500 kg', '15,600 kg', '2,617 kg', '6,956 kg', '15,600 kg', '12,050 kg', '15,600 kg', '15,600 kg', '1,977 kg', '15,600 kg', '15,600 kg', '12,530 kg', '15,600 kg', '15,410 kg', '4,311 kg', '5,000–6,000 kg', '14,932 kg', '~15,440 kg', '3,130 kg', '15,600 kg', '15,600 kg', '15,600 kg', '15,600 kg', '4,311 kg', '~12,500 kg', '1,192 kg', '15,600 kg', '2,972 kg', '7,000 kg', 'C', '3,500 kg', '15,600 kg', '~5,000 kg', 0, 0, '525 kg', '4,700 kg', '4,877 kg', '500 kg', '3,170 kg', '3,325 kg', '2,296 kg', '1,316 kg', '4,535 kg', '4,428 kg', '2,216 kg', '2,395 kg', '570 kg', '4,159 kg', '1,898 kg', '4,707 kg', '1,952 kg', '2,034 kg', '553 kg', '5,271 kg', '3,136 kg', '4,696 kg', '3,100 kg', '3,600 kg', '2,257 kg', '4,600 kg', '9,600 kg', '2,490 kg', '5,600 kg', '5,300 kg', 'C', '6,070 kg', '2,708 kg', '3,669 kg', '9,600 kg', '6,761 kg', '3,310 kg', '475 kg', '4,990 kg', '9,600 kg', '5,200 kg', '3,500 kg', '2,205 kg', '9,600 kg', 'C', '4,230 kg', '2,150 kg', '6,092 kg', '9,600 kg', '2,647 kg', '362 kg', '3,600 kg', '6,460 kg', '5,384 kg', '2,697 kg', '7,075 kg', '9,600 kg', '5,800 kg', '7,060 kg', '3,000 kg', '5,300 kg', '~4,000 kg', '2,500 kg', '4,400 kg', '9,600 kg', '4,850 kg', '12,055 kg', '2,495 kg', '13,620 kg', '4,200 kg', '2,268 kg', '6,500 kg', '15,600 kg', '2,617 kg', '6,956 kg', '15,600 kg', '12,050 kg', '15,600 kg', '15,600 kg', '1,977 kg', '15,600 kg', '15,600 kg', '12,530 kg', '15,600 kg', '15,410 kg', '4,311 kg', '5,000–6,000 kg', '14,932 kg', '~15,440 kg', '3,130 kg', '15,600 kg', '15,600 kg', '15,600 kg', '15,600 kg', '4,311 kg', '~12,500 kg', '1,192 kg', '15,600 kg', '2,972 kg', '7,000 kg', 'C', '3,500 kg', '15,600 kg', '~5,000 kg', '15,600 kg', '15,600 kg', '15,600 kg', '15,600 kg', '15,600 kg', '15,600 kg', '15,600 kg', '~13,000 kg', '15,600 kg', '15,600 kg', '15,600 kg', '~14,000 kg', '15,600 kg', '3,328 kg', '7,000 kg'], 'Orbit': ['LEO', 'LEO', 'LEO', 'LEO', 'LEO', 'Polar orbit', 'GTO', 'GTO', 'LEO', 'LEO', 'GTO', 'GTO', 'LEO', 'LEO', 'HEO', 'GTO', 'LEO', 'GTO', 'LEO', 'LEO', 'LEO', 'GTO', 'LEO', 'GTO', 'GTO', 'GTO', 'LEO', 'GTO', 'Polar', 'LEO', 'GTO', 'GTO', 'LEO', 'GTO', 'LEO', 'GTO', 'LEO', 'GTO', 'LEO', 'SSO', 'LEO', 'Polar', 'GTO', 'GTO', 'LEO', 'Polar', 'LEO', 'GTO', 'SSO', 'GTO', 'Polar', 'LEO', 'HEO', 'GTO', 'Polar', 'GTO', 'LEO', 'GTO', 'Polar', 'GTO', 'GTO', 'SSO', 'GTO', 'SSO', 'LEO', 'MEO', 'Polar', 'GTO', 'LEO', 'LEO', 'LEO', 'SSO', 'LEO', 'GTO', 'LEO', 'LEO', 'GTO', 'LEO', 'Sub-orbital', 'LEO', 'LEO', 'LEO', 'LEO', 'LEO', 'LEO', 'LEO', 'LEO', 'MEO', 'GTO', 'LEO', 'LEO', 'SSO', 'LEO', 'LEO', 'LEO', 'LEO', 'MEO', 'LEO', 'LEO', 'LEO', 'LEO', 'GTO', 'LEO', 'GTO', 'LEO', 'SSO', 'LEO', 'LEO', 'LEO', 'LEO', 'LEO', 'Polar orbit', 'GTO', 'GTO', 'LEO', 'LEO', 'GTO', 'GTO', 'LEO', 'LEO', 'HEO', 'GTO', 'LEO', 'GTO', 'LEO', 'LEO', 'LEO', 'GTO', 'LEO', 'GTO', 'GTO', 'GTO', 'LEO', 'GTO', 'Polar', 'LEO', 'GTO', 'GTO', 'LEO', 'GTO', 'LEO', 'GTO', 'LEO', 'GTO', 'LEO', 'SSO', 'LEO', 'Polar', 'GTO', 'GTO', 'LEO', 'Polar', 'LEO', 'GTO', 'SSO', 'GTO', 'Polar', 'LEO', 'HEO', 'GTO', 'Polar', 'GTO', 'LEO', 'GTO', 'Polar', 'GTO', 'GTO', 'SSO', 'GTO', 'SSO', 'LEO', 'MEO', 'Polar', 'GTO', 'LEO', 'LEO', 'LEO', 'SSO', 'LEO', 'GTO', 'LEO', 'LEO', 'GTO', 'LEO', 'Sub-orbital', 'LEO', 'LEO', 'LEO', 'LEO', 'LEO', 'LEO', 'LEO', 'LEO', 'MEO', 'GTO', 'LEO', 'LEO', 'SSO', 'LEO', 'LEO', 'LEO', 'LEO', 'MEO', 'LEO', 'LEO', 'LEO', 'LEO', 'GTO', 'LEO', 'GTO', 'LEO', 'SSO', 'LEO', 'LEO', 'LEO', 'LEO', 'LEO', 'Polar orbit', 'GTO', 'GTO', 'LEO', 'LEO', 'GTO', 'GTO', 'LEO', 'LEO', 'HEO', 'GTO', 'LEO', 'GTO', 'LEO', 'LEO', 'LEO', 'GTO', 'LEO', 'GTO', 'GTO', 'GTO', 'LEO', 'GTO', 'Polar', 'LEO', 'GTO', 'GTO', 'LEO', 'GTO', 'LEO', 'GTO', 'LEO', 'GTO', 'LEO', 'SSO', 'LEO', 'Polar', 'GTO', 'GTO', 'LEO', 'Polar', 'LEO', 'GTO', 'SSO', 'GTO', 'Polar', 'LEO', 'HEO', 'GTO', 'Polar', 'GTO', 'LEO', 'GTO', 'Polar', 'GTO', 'GTO', 'SSO', 'GTO', 'SSO', 'LEO', 'MEO', 'Polar', 'GTO', 'LEO', 'LEO', 'LEO', 'SSO', 'LEO', 'GTO', 'LEO', 'LEO', 'GTO', 'LEO', 'Sub-orbital', 'LEO', 'LEO', 'LEO', 'LEO', 'LEO', 'LEO', 'LEO', 'LEO', 'MEO', 'GTO', 'LEO', 'LEO', 'SSO', 'LEO', 'LEO', 'LEO', 'LEO', 'MEO', 'LEO', 'LEO', 'LEO', 'LEO', 'GTO', 'LEO', 'GTO', 'LEO', 'SSO', 'LEO', 'LEO', 'LEO', 'LEO', 'LEO', 'Polar orbit', 'GTO', 'GTO', 'LEO', 'LEO', 'GTO', 'GTO', 'LEO', 'LEO', 'HEO', 'GTO', 'LEO', 'GTO', 'LEO', 'LEO', 'LEO', 'GTO', 'LEO', 'GTO', 'GTO', 'GTO', 'LEO', 'GTO', 'Polar', 'LEO', 'GTO', 'GTO', 'LEO', 'GTO', 'LEO', 'GTO', 'LEO', 'GTO', 'LEO', 'SSO', 'LEO', 'Polar', 'GTO', 'GTO', 'LEO', 'Polar', 'LEO', 'GTO', 'SSO', 'GTO', 'Polar', 'LEO', 'HEO', 'GTO', 'Polar', 'GTO', 'LEO', 'GTO', 'Polar', 'GTO', 'GTO', 'SSO', 'GTO', 'SSO', 'LEO', 'MEO', 'Polar', 'GTO', 'LEO', 'LEO', 'LEO', 'SSO', 'LEO', 'GTO', 'LEO', 'LEO', 'GTO', 'LEO', 'Sub-orbital', 'LEO', 'LEO', 'LEO', 'LEO', 'LEO', 'LEO', 'LEO', 'LEO', 'MEO', 'GTO', 'LEO', 'LEO', 'SSO', 'LEO', 'LEO', 'LEO', 'LEO', 'MEO', 'LEO', 'LEO', 'LEO', 'LEO', 'GTO', 'LEO', 'GTO', 'LEO', 'SSO', 'LEO', 'LEO', 'LEO', 'LEO', 'LEO', 'Polar orbit', 'GTO', 'GTO', 'LEO', 'LEO', 'GTO', 'GTO', 'LEO', 'LEO', 'HEO', 'GTO', 'LEO', 'GTO', 'LEO', 'LEO', 'LEO', 'GTO', 'LEO', 'GTO', 'GTO', 'GTO', 'LEO', 'GTO', 'Polar', 'LEO', 'GTO', 'GTO', 'LEO', 'GTO', 'LEO', 'GTO', 'LEO', 'GTO', 'LEO', 'SSO', 'LEO', 'Polar', 'GTO', 'GTO', 'LEO', 'Polar', 'LEO', 'GTO', 'SSO', 'GTO', 'Polar', 'LEO', 'HEO', 'GTO', 'Polar', 'GTO', 'LEO', 'GTO', 'Polar', 'GTO', 'GTO', 'SSO', 'GTO', 'SSO', 'LEO', 'MEO', 'Polar', 'GTO', 'LEO', 'LEO', 'LEO', 'SSO', 'LEO', 'GTO', 'LEO', 'LEO', 'GTO', 'LEO', 'Sub-orbital', 'LEO', 'LEO', 'LEO', 'LEO', 'LEO', 'LEO', 'LEO', 'LEO', 'MEO', 'GTO', 'LEO', 'LEO', 'SSO', 'LEO', 'LEO', 'LEO', 'LEO', 'MEO', 'LEO', 'LEO', 'LEO', 'LEO', 'GTO', 'LEO', 'GTO', 'LEO', 'SSO', 'LEO', 'LEO', 'LEO', 'LEO', 'LEO', 'LEO', 'LEO', 'LEO', 'LEO', 'LEO', 'LEO', 'LEO', 'LEO', 'LEO', 'GTO'], 'Customer': ['SpaceX', 'NASA', 'NASA', 'NASA', 'NASA', 'MDA', 'SES', 'Thaicom', 'NASA', 'Orbcomm', 'AsiaSat', 'AsiaSat', 'NASA', 'NASA', 'USAF', 'ABS', 'NASA', None, 'NASA', 'Orbcomm', 'NASA', 'SES', 'NASA', 'SKY Perfect JSAT Group', 'Thaicom', 'ABS', 'NASA', 'SKY Perfect JSAT Group', 'Iridium Communications', 'NASA', 'EchoStar', 'SES', 'NRO', 'Inmarsat', 'NASA', 'Bulsatcom', 'Iridium Communications', 'Intelsat', 'NASA', 'NSPO', 'USAF', 'Iridium Communications', 'SES S.A.', 'KT Corporation', 'NASA', 'Iridium Communications', 'Northrop Grumman', 'SES', 'Hisdesat', 'Hispasat', 'Iridium Communications', 'NASA', 'NASA', 'Thales-Alenia', 'Iridium Communications', 'SES', 'NASA', 'Telesat', 'Iridium Communications', 'Telkom Indonesia', 'Telesat', 'CONAE', \"Es'hailSat\", 'Spaceflight Industries', 'NASA', 'USAF', 'Iridium Communications', 'PSN', 'NASA', 'NASA', 'SpaceX', 'Canadian Space Agency', 'NASA', 'Spacecom', 'SpaceX', 'NASA', 'Sky Perfect JSAT', 'SpaceX', 'NASA', 'SpaceX', 'SpaceX', 'NASA', 'SpaceX', 'SpaceX', 'NASA', 'SpaceX', 'SpaceX', 'U.S. Space Force', 'Republic of Korea Army', 'SpaceX', 'SpaceX', 'CONAE', 'SpaceX', 'SpaceX', 'SpaceX', 'SpaceX', 'USSF', 'NASA', 'NASA', 'SpaceX', 'NASA', 'Sirius XM', 'NRO', 'Türksat', 'SpaceX', 'SpaceX', 'NASA', 'NASA', 'NASA', 'NASA', 'MDA', 'SES', 'Thaicom', 'NASA', 'Orbcomm', 'AsiaSat', 'AsiaSat', 'NASA', 'NASA', 'USAF', 'ABS', 'NASA', None, 'NASA', 'Orbcomm', 'NASA', 'SES', 'NASA', 'SKY Perfect JSAT Group', 'Thaicom', 'ABS', 'NASA', 'SKY Perfect JSAT Group', 'Iridium Communications', 'NASA', 'EchoStar', 'SES', 'NRO', 'Inmarsat', 'NASA', 'Bulsatcom', 'Iridium Communications', 'Intelsat', 'NASA', 'NSPO', 'USAF', 'Iridium Communications', 'SES S.A.', 'KT Corporation', 'NASA', 'Iridium Communications', 'Northrop Grumman', 'SES', 'Hisdesat', 'Hispasat', 'Iridium Communications', 'NASA', 'NASA', 'Thales-Alenia', 'Iridium Communications', 'SES', 'NASA', 'Telesat', 'Iridium Communications', 'Telkom Indonesia', 'Telesat', 'CONAE', \"Es'hailSat\", 'Spaceflight Industries', 'NASA', 'USAF', 'Iridium Communications', 'PSN', 'NASA', 'NASA', 'SpaceX', 'Canadian Space Agency', 'NASA', 'Spacecom', 'SpaceX', 'NASA', 'Sky Perfect JSAT', 'SpaceX', 'NASA', 'SpaceX', 'SpaceX', 'NASA', 'SpaceX', 'SpaceX', 'NASA', 'SpaceX', 'SpaceX', 'U.S. Space Force', 'Republic of Korea Army', 'SpaceX', 'SpaceX', 'CONAE', 'SpaceX', 'SpaceX', 'SpaceX', 'SpaceX', 'USSF', 'NASA', 'NASA', 'SpaceX', 'NASA', 'Sirius XM', 'NRO', 'Türksat', 'SpaceX', 'SpaceX', 'NASA', 'NASA', 'NASA', 'NASA', 'MDA', 'SES', 'Thaicom', 'NASA', 'Orbcomm', 'AsiaSat', 'AsiaSat', 'NASA', 'NASA', 'USAF', 'ABS', 'NASA', None, 'NASA', 'Orbcomm', 'NASA', 'SES', 'NASA', 'SKY Perfect JSAT Group', 'Thaicom', 'ABS', 'NASA', 'SKY Perfect JSAT Group', 'Iridium Communications', 'NASA', 'EchoStar', 'SES', 'NRO', 'Inmarsat', 'NASA', 'Bulsatcom', 'Iridium Communications', 'Intelsat', 'NASA', 'NSPO', 'USAF', 'Iridium Communications', 'SES S.A.', 'KT Corporation', 'NASA', 'Iridium Communications', 'Northrop Grumman', 'SES', 'Hisdesat', 'Hispasat', 'Iridium Communications', 'NASA', 'NASA', 'Thales-Alenia', 'Iridium Communications', 'SES', 'NASA', 'Telesat', 'Iridium Communications', 'Telkom Indonesia', 'Telesat', 'CONAE', \"Es'hailSat\", 'Spaceflight Industries', 'NASA', 'USAF', 'Iridium Communications', 'PSN', 'NASA', 'NASA', 'SpaceX', 'Canadian Space Agency', 'NASA', 'Spacecom', 'SpaceX', 'NASA', 'Sky Perfect JSAT', 'SpaceX', 'NASA', 'SpaceX', 'SpaceX', 'NASA', 'SpaceX', 'SpaceX', 'NASA', 'SpaceX', 'SpaceX', 'U.S. Space Force', 'Republic of Korea Army', 'SpaceX', 'SpaceX', 'CONAE', 'SpaceX', 'SpaceX', 'SpaceX', 'SpaceX', 'USSF', 'NASA', 'NASA', 'SpaceX', 'NASA', 'Sirius XM', 'NRO', 'Türksat', 'SpaceX', 'SpaceX', 'NASA', 'NASA', 'NASA', 'NASA', 'MDA', 'SES', 'Thaicom', 'NASA', 'Orbcomm', 'AsiaSat', 'AsiaSat', 'NASA', 'NASA', 'USAF', 'ABS', 'NASA', None, 'NASA', 'Orbcomm', 'NASA', 'SES', 'NASA', 'SKY Perfect JSAT Group', 'Thaicom', 'ABS', 'NASA', 'SKY Perfect JSAT Group', 'Iridium Communications', 'NASA', 'EchoStar', 'SES', 'NRO', 'Inmarsat', 'NASA', 'Bulsatcom', 'Iridium Communications', 'Intelsat', 'NASA', 'NSPO', 'USAF', 'Iridium Communications', 'SES S.A.', 'KT Corporation', 'NASA', 'Iridium Communications', 'Northrop Grumman', 'SES', 'Hisdesat', 'Hispasat', 'Iridium Communications', 'NASA', 'NASA', 'Thales-Alenia', 'Iridium Communications', 'SES', 'NASA', 'Telesat', 'Iridium Communications', 'Telkom Indonesia', 'Telesat', 'CONAE', \"Es'hailSat\", 'Spaceflight Industries', 'NASA', 'USAF', 'Iridium Communications', 'PSN', 'NASA', 'NASA', 'SpaceX', 'Canadian Space Agency', 'NASA', 'Spacecom', 'SpaceX', 'NASA', 'Sky Perfect JSAT', 'SpaceX', 'NASA', 'SpaceX', 'SpaceX', 'NASA', 'SpaceX', 'SpaceX', 'NASA', 'SpaceX', 'SpaceX', 'U.S. Space Force', 'Republic of Korea Army', 'SpaceX', 'SpaceX', 'CONAE', 'SpaceX', 'SpaceX', 'SpaceX', 'SpaceX', 'USSF', 'NASA', 'NASA', 'SpaceX', 'NASA', 'Sirius XM', 'NRO', 'Türksat', 'SpaceX', 'SpaceX', 'NASA', 'NASA', 'NASA', 'NASA', 'MDA', 'SES', 'Thaicom', 'NASA', 'Orbcomm', 'AsiaSat', 'AsiaSat', 'NASA', 'NASA', 'USAF', 'ABS', 'NASA', 'Unknown Customer', 'NASA', 'Orbcomm', 'NASA', 'SES', 'NASA', 'SKY Perfect JSAT Group', 'Thaicom', 'ABS', 'NASA', 'SKY Perfect JSAT Group', 'Iridium Communications', 'NASA', 'EchoStar', 'SES', 'NRO', 'Inmarsat', 'NASA', 'Bulsatcom', 'Iridium Communications', 'Intelsat', 'NASA', 'NSPO', 'USAF', 'Iridium Communications', 'SES S.A.', 'KT Corporation', 'NASA', 'Iridium Communications', 'Northrop Grumman', 'SES', 'Hisdesat', 'Hispasat', 'Iridium Communications', 'NASA', 'NASA', 'Thales-Alenia', 'Iridium Communications', 'SES', 'NASA', 'Telesat', 'Iridium Communications', 'Telkom Indonesia', 'Telesat', 'CONAE', \"Es'hailSat\", 'Spaceflight Industries', 'NASA', 'USAF', 'Iridium Communications', 'PSN', 'NASA', 'NASA', 'SpaceX', 'Canadian Space Agency', 'NASA', 'Spacecom', 'SpaceX', 'NASA', 'Sky Perfect JSAT', 'SpaceX', 'NASA', 'SpaceX', 'SpaceX', 'NASA', 'SpaceX', 'SpaceX', 'NASA', 'SpaceX', 'SpaceX', 'U.S. Space Force', 'Republic of Korea Army', 'SpaceX', 'SpaceX', 'CONAE', 'SpaceX', 'SpaceX', 'SpaceX', 'SpaceX', 'USSF', 'NASA', 'NASA', 'SpaceX', 'NASA', 'Sirius XM', 'NRO', 'Türksat', 'SpaceX', 'Unknown Customer', 'SpaceX', 'SpaceX', 'SpaceX', 'SpaceX', 'SpaceX', 'SpaceX', 'SpaceX', 'NASA', 'SpaceX', 'SpaceX', 'SpaceX', 'SpaceX', 'SpaceX', 'NASA', 'Sirius XM'], 'Launch outcome': ['Success\\n', 'Success', 'Success', 'Success\\n', 'Success\\n', 'Success', 'Success', 'Success', 'Success\\n', 'Success', 'Success', 'Success', 'Success', 'Success', 'Success\\n', 'Success\\n', 'Success\\n', 'Success\\n', 'Failure', 'Success\\n', 'Success\\n', 'Success\\n', 'Success', 'Success\\n', 'Success\\n', 'Success\\n', 'Success\\n', 'Success\\n', 'Success\\n', 'Success\\n', 'Success\\n', 'Success', 'Success\\n', 'Success\\n', 'Success\\n', 'Success\\n', 'Success\\n', 'Success\\n', 'Success\\n', 'Success\\n', 'Success\\n', 'Success\\n', 'Success\\n', 'Success\\n', 'Success\\n', 'Success', 'Success', 'Success', 'Success', 'Success', 'Success', 'Success', 'Success', 'Success', 'Success', 'Success', 'Success', 'Success', 'Success', 'Success', 'Success', 'Success', 'Success', 'Success', 'Success\\n', 'Success', 'Success\\n', 'Success\\n', 'Success\\n', 'Success\\n', 'Success\\n', 'Success\\n', 'Success\\n', 'Success\\n', 'Success\\n', 'Success\\n', 'Success\\n', 'Success\\n', 'Success\\n', 'Success\\n', 'Success\\n', 'Success\\n', 'Success\\n', 'Success\\n', 'Success\\n', 'Success\\n', 'Success\\n', 'Success\\n', 'Success\\n', 'Success\\n', 'Success\\n', 'Success\\n', 'Success\\n', 'Success\\n', 'Success\\n', 'Success\\n', 'Success\\n', 'Success\\n', 'Success\\n', 'Success\\n', 'Success\\n', 'Success\\n', 'Success\\n', 'Success\\n', 'Success\\n', 'Success\\n', 'Success', 'Success', 'Success\\n', 'Success\\n', 'Success', 'Success', 'Success', 'Success\\n', 'Success', 'Success', 'Success', 'Success', 'Success', 'Success\\n', 'Success\\n', 'Success\\n', 'Success\\n', 'Failure', 'Success\\n', 'Success\\n', 'Success\\n', 'Success', 'Success\\n', 'Success\\n', 'Success\\n', 'Success\\n', 'Success\\n', 'Success\\n', 'Success\\n', 'Success\\n', 'Success', 'Success\\n', 'Success\\n', 'Success\\n', 'Success\\n', 'Success\\n', 'Success\\n', 'Success\\n', 'Success\\n', 'Success\\n', 'Success\\n', 'Success\\n', 'Success\\n', 'Success\\n', 'Success', 'Success', 'Success', 'Success', 'Success', 'Success', 'Success', 'Success', 'Success', 'Success', 'Success', 'Success', 'Success', 'Success', 'Success', 'Success', 'Success', 'Success', 'Success', 'Success\\n', 'Success', 'Success\\n', 'Success\\n', 'Success\\n', 'Success\\n', 'Success\\n', 'Success\\n', 'Success\\n', 'Success\\n', 'Success\\n', 'Success\\n', 'Success\\n', 'Success\\n', 'Success\\n', 'Success\\n', 'Success\\n', 'Success\\n', 'Success\\n', 'Success\\n', 'Success\\n', 'Success\\n', 'Success\\n', 'Success\\n', 'Success\\n', 'Success\\n', 'Success\\n', 'Success\\n', 'Success\\n', 'Success\\n', 'Success\\n', 'Success\\n', 'Success\\n', 'Success\\n', 'Success\\n', 'Success\\n', 'Success\\n', 'Success\\n', 'Success\\n', 'Success\\n', 'Success\\n', 'Success\\n', 'Success', 'Success', 'Success\\n', 'Success\\n', 'Success', 'Success', 'Success', 'Success\\n', 'Success', 'Success', 'Success', 'Success', 'Success', 'Success\\n', 'Success\\n', 'Success\\n', 'Success\\n', 'Failure', 'Success\\n', 'Success\\n', 'Success\\n', 'Success', 'Success\\n', 'Success\\n', 'Success\\n', 'Success\\n', 'Success\\n', 'Success\\n', 'Success\\n', 'Success\\n', 'Success', 'Success\\n', 'Success\\n', 'Success\\n', 'Success\\n', 'Success\\n', 'Success\\n', 'Success\\n', 'Success\\n', 'Success\\n', 'Success\\n', 'Success\\n', 'Success\\n', 'Success\\n', 'Success', 'Success', 'Success', 'Success', 'Success', 'Success', 'Success', 'Success', 'Success', 'Success', 'Success', 'Success', 'Success', 'Success', 'Success', 'Success', 'Success', 'Success', 'Success', 'Success\\n', 'Success', 'Success\\n', 'Success\\n', 'Success\\n', 'Success\\n', 'Success\\n', 'Success\\n', 'Success\\n', 'Success\\n', 'Success\\n', 'Success\\n', 'Success\\n', 'Success\\n', 'Success\\n', 'Success\\n', 'Success\\n', 'Success\\n', 'Success\\n', 'Success\\n', 'Success\\n', 'Success\\n', 'Success\\n', 'Success\\n', 'Success\\n', 'Success\\n', 'Success\\n', 'Success\\n', 'Success\\n', 'Success\\n', 'Success\\n', 'Success\\n', 'Success\\n', 'Success\\n', 'Success\\n', 'Success\\n', 'Success\\n', 'Success\\n', 'Success\\n', 'Success\\n', 'Success\\n', 'Success\\n', 'Success', 'Success', 'Success\\n', 'Success\\n', 'Success', 'Success', 'Success', 'Success\\n', 'Success', 'Success', 'Success', 'Success', 'Success', 'Success\\n', 'Success\\n', 'Success\\n', 'Success\\n', 'Failure', 'Success\\n', 'Success\\n', 'Success\\n', 'Success', 'Success\\n', 'Success\\n', 'Success\\n', 'Success\\n', 'Success\\n', 'Success\\n', 'Success\\n', 'Success\\n', 'Success', 'Success\\n', 'Success\\n', 'Success\\n', 'Success\\n', 'Success\\n', 'Success\\n', 'Success\\n', 'Success\\n', 'Success\\n', 'Success\\n', 'Success\\n', 'Success\\n', 'Success\\n', 'Success', 'Success', 'Success', 'Success', 'Success', 'Success', 'Success', 'Success', 'Success', 'Success', 'Success', 'Success', 'Success', 'Success', 'Success', 'Success', 'Success', 'Success', 'Success', 'Success\\n', 'Success', 'Success\\n', 'Success\\n', 'Success\\n', 'Success\\n', 'Success\\n', 'Success\\n', 'Success\\n', 'Success\\n', 'Success\\n', 'Success\\n', 'Success\\n', 'Success\\n', 'Success\\n', 'Success\\n', 'Success\\n', 'Success\\n', 'Success\\n', 'Success\\n', 'Success\\n', 'Success\\n', 'Success\\n', 'Success\\n', 'Success\\n', 'Success\\n', 'Success\\n', 'Success\\n', 'Success\\n', 'Success\\n', 'Success\\n', 'Success\\n', 'Success\\n', 'Success\\n', 'Success\\n', 'Success\\n', 'Success\\n', 'Success\\n', 'Success\\n', 'Success\\n', 'Success\\n', 'Success\\n', 'Success', 'Success', 'Success\\n', 'Success\\n', 'Success', 'Success', 'Success', 'Success\\n', 'Success', 'Success', 'Success', 'Success', 'Success', 'Success\\n', 'Success\\n', 'Success\\n', 'Success\\n', 'Failure', 'Success\\n', 'Success\\n', 'Success\\n', 'Success', 'Success\\n', 'Success\\n', 'Success\\n', 'Success\\n', 'Success\\n', 'Success\\n', 'Success\\n', 'Success\\n', 'Success', 'Success\\n', 'Success\\n', 'Success\\n', 'Success\\n', 'Success\\n', 'Success\\n', 'Success\\n', 'Success\\n', 'Success\\n', 'Success\\n', 'Success\\n', 'Success\\n', 'Success\\n', 'Success', 'Success', 'Success', 'Success', 'Success', 'Success', 'Success', 'Success', 'Success', 'Success', 'Success', 'Success', 'Success', 'Success', 'Success', 'Success', 'Success', 'Success', 'Success', 'Success\\n', 'Success', 'Success\\n', 'Success\\n', 'Success\\n', 'Success\\n', 'Success\\n', 'Success\\n', 'Success\\n', 'Success\\n', 'Success\\n', 'Success\\n', 'Success\\n', 'Success\\n', 'Success\\n', 'Success\\n', 'Success\\n', 'Success\\n', 'Success\\n', 'Success\\n', 'Success\\n', 'Success\\n', 'Success\\n', 'Success\\n', 'Success\\n', 'Success\\n', 'Success\\n', 'Success\\n', 'Success\\n', 'Success\\n', 'Success\\n', 'Success\\n', 'Success\\n', 'Success\\n', 'Success\\n', 'Success\\n', 'Success\\n', 'Success\\n', 'Success\\n', 'Success\\n', 'Success\\n', 'Success\\n', 'Success\\n', 'Success\\n', 'Success\\n', 'Success\\n', 'Success\\n', 'Success\\n', 'Success\\n', 'Success\\n', 'Success\\n', 'Success\\n', 'Success\\n', 'Success\\n', 'Success\\n', 'Success\\n', 'Success\\n'], 'Version Booster': ['F9 v1.07B0003.18', 'F9 v1.07B0004.18', 'F9 v1.07B0005.18', 'F9 v1.07B0006.18', 'F9 v1.07B0007.18', 'F9 v1.17B10038', 'F9 v1.1', 'F9 v1.1', 'F9 v1.1', 'F9 v1.1', 'F9 v1.1', 'F9 v1.1[', 'F9 v1.1[', 'F9 v1.1[', 'F9 v1.1[', 'F9 v1.1[', 'F9 v1.1[', 'F9 v1.1[', 'F9 v1.1[', 'F9 FT[', 'F9 v1.1[', 'F9 FT[', 'F9 FT[', 'F9 FT[', 'F9 FT[', 'F9 FT[', 'F9 FT[', 'F9 FT[', 'F9 FT[', 'F9 FT[', 'F9 FT[', 'F9 FT♺[', 'F9 FT[', 'F9 FT[', 'F9 FT[', 'F9 FTB1029.2195', 'F9 FT[', 'F9 FT[', 'F9 B4[', 'F9 FT[', 'F9 B4[', 'F9 B4[', 'F9 FTB1031.2220', 'F9 B4[', 'F9 FTB1035.2227', 'F9 FTB1036.2227', 'F9 B4[', 'F9 FTB1032.2245', 'F9 FTB1038.2268', 'F9 B4[', 'F9 B4B1041.2268', 'F9 B4B1039.2292', 'F9 B4[', 'F9 B5311B1046.1268', 'F9 B4B1043.2322', 'F9 B4B1040.2268', 'F9 B4B1045.2336', 'F9 B5', 'F9 B5349B1048[', 'F9 B5B1046.2354', 'F9 B5[', 'F9 B5B1048.2364', 'F9 B5B1047.2268', 'F9 B5B1046.3268', 'F9 B5[', 'F9 B5[', 'F9 B5B1049.2397', 'F9 B5B1048.3399', 'F9 B5[]413', 'F9 B5[', 'F9 B5B1049.3434', 'F9 B5B1051.2420', 'F9 B5B1056.2465', 'F9 B5B1047.3472', 'F9 B5', 'F9 B5[', 'F9 B5B1056.3482', 'F9 B5', 'F9 B5', 'F9 B5', 'F9 B5', 'F9 B5', 'F9 B5', 'F9 B5', 'F9 B5[', 'F9 B5', 'F9 B5', 'F9 B5', 'F9 B5B1058.2544', 'F9 B5', 'F9 B5B1049.6544', 'F9 B5', 'F9 B5B1060.2563', 'F9 B5B1058.3565', 'F9 B5B1051.6568', 'F9 B5', 'F9 B5', 'F9 B5[', 'F9 B5', 'F9 B5 ♺[', 'F9 B5 ♺[', 'F9 B5 ♺', 'F9 B5 ♺', 'F9 B5', 'F9 B5B1051.8609', 'F9 B5B1058.5613', 'F9 v1.07B0003.18', 'F9 v1.07B0004.18', 'F9 v1.07B0005.18', 'F9 v1.07B0006.18', 'F9 v1.07B0007.18', 'F9 v1.17B10038', 'F9 v1.1', 'F9 v1.1', 'F9 v1.1', 'F9 v1.1', 'F9 v1.1', 'F9 v1.1[', 'F9 v1.1[', 'F9 v1.1[', 'F9 v1.1[', 'F9 v1.1[', 'F9 v1.1[', 'F9 v1.1[', 'F9 v1.1[', 'F9 FT[', 'F9 v1.1[', 'F9 FT[', 'F9 FT[', 'F9 FT[', 'F9 FT[', 'F9 FT[', 'F9 FT[', 'F9 FT[', 'F9 FT[', 'F9 FT[', 'F9 FT[', 'F9 FT♺[', 'F9 FT[', 'F9 FT[', 'F9 FT[', 'F9 FTB1029.2195', 'F9 FT[', 'F9 FT[', 'F9 B4[', 'F9 FT[', 'F9 B4[', 'F9 B4[', 'F9 FTB1031.2220', 'F9 B4[', 'F9 FTB1035.2227', 'F9 FTB1036.2227', 'F9 B4[', 'F9 FTB1032.2245', 'F9 FTB1038.2268', 'F9 B4[', 'F9 B4B1041.2268', 'F9 B4B1039.2292', 'F9 B4[', 'F9 B5311B1046.1268', 'F9 B4B1043.2322', 'F9 B4B1040.2268', 'F9 B4B1045.2336', 'F9 B5', 'F9 B5349B1048[', 'F9 B5B1046.2354', 'F9 B5[', 'F9 B5B1048.2364', 'F9 B5B1047.2268', 'F9 B5B1046.3268', 'F9 B5[', 'F9 B5[', 'F9 B5B1049.2397', 'F9 B5B1048.3399', 'F9 B5[]413', 'F9 B5[', 'F9 B5B1049.3434', 'F9 B5B1051.2420', 'F9 B5B1056.2465', 'F9 B5B1047.3472', 'F9 B5', 'F9 B5[', 'F9 B5B1056.3482', 'F9 B5', 'F9 B5', 'F9 B5', 'F9 B5', 'F9 B5', 'F9 B5', 'F9 B5', 'F9 B5[', 'F9 B5', 'F9 B5', 'F9 B5', 'F9 B5B1058.2544', 'F9 B5', 'F9 B5B1049.6544', 'F9 B5', 'F9 B5B1060.2563', 'F9 B5B1058.3565', 'F9 B5B1051.6568', 'F9 B5', 'F9 B5', 'F9 B5[', 'F9 B5', 'F9 B5 ♺[', 'F9 B5 ♺[', 'F9 B5 ♺', 'F9 B5 ♺', 'F9 B5', 'F9 B5B1051.8609', 'F9 B5B1058.5613', 'F9 v1.07B0003.18', 'F9 v1.07B0004.18', 'F9 v1.07B0005.18', 'F9 v1.07B0006.18', 'F9 v1.07B0007.18', 'F9 v1.17B10038', 'F9 v1.1', 'F9 v1.1', 'F9 v1.1', 'F9 v1.1', 'F9 v1.1', 'F9 v1.1[', 'F9 v1.1[', 'F9 v1.1[', 'F9 v1.1[', 'F9 v1.1[', 'F9 v1.1[', 'F9 v1.1[', 'F9 v1.1[', 'F9 FT[', 'F9 v1.1[', 'F9 FT[', 'F9 FT[', 'F9 FT[', 'F9 FT[', 'F9 FT[', 'F9 FT[', 'F9 FT[', 'F9 FT[', 'F9 FT[', 'F9 FT[', 'F9 FT♺[', 'F9 FT[', 'F9 FT[', 'F9 FT[', 'F9 FTB1029.2195', 'F9 FT[', 'F9 FT[', 'F9 B4[', 'F9 FT[', 'F9 B4[', 'F9 B4[', 'F9 FTB1031.2220', 'F9 B4[', 'F9 FTB1035.2227', 'F9 FTB1036.2227', 'F9 B4[', 'F9 FTB1032.2245', 'F9 FTB1038.2268', 'F9 B4[', 'F9 B4B1041.2268', 'F9 B4B1039.2292', 'F9 B4[', 'F9 B5311B1046.1268', 'F9 B4B1043.2322', 'F9 B4B1040.2268', 'F9 B4B1045.2336', 'F9 B5', 'F9 B5349B1048[', 'F9 B5B1046.2354', 'F9 B5[', 'F9 B5B1048.2364', 'F9 B5B1047.2268', 'F9 B5B1046.3268', 'F9 B5[', 'F9 B5[', 'F9 B5B1049.2397', 'F9 B5B1048.3399', 'F9 B5[]413', 'F9 B5[', 'F9 B5B1049.3434', 'F9 B5B1051.2420', 'F9 B5B1056.2465', 'F9 B5B1047.3472', 'F9 B5', 'F9 B5[', 'F9 B5B1056.3482', 'F9 B5', 'F9 B5', 'F9 B5', 'F9 B5', 'F9 B5', 'F9 B5', 'F9 B5', 'F9 B5[', 'F9 B5', 'F9 B5', 'F9 B5', 'F9 B5B1058.2544', 'F9 B5', 'F9 B5B1049.6544', 'F9 B5', 'F9 B5B1060.2563', 'F9 B5B1058.3565', 'F9 B5B1051.6568', 'F9 B5', 'F9 B5', 'F9 B5[', 'F9 B5', 'F9 B5 ♺[', 'F9 B5 ♺[', 'F9 B5 ♺', 'F9 B5 ♺', 'F9 B5', 'F9 B5B1051.8609', 'F9 B5B1058.5613', 'F9 v1.07B0003.18', 'F9 v1.07B0004.18', 'F9 v1.07B0005.18', 'F9 v1.07B0006.18', 'F9 v1.07B0007.18', 'F9 v1.17B10038', 'F9 v1.1', 'F9 v1.1', 'F9 v1.1', 'F9 v1.1', 'F9 v1.1', 'F9 v1.1[', 'F9 v1.1[', 'F9 v1.1[', 'F9 v1.1[', 'F9 v1.1[', 'F9 v1.1[', 'F9 v1.1[', 'F9 v1.1[', 'F9 FT[', 'F9 v1.1[', 'F9 FT[', 'F9 FT[', 'F9 FT[', 'F9 FT[', 'F9 FT[', 'F9 FT[', 'F9 FT[', 'F9 FT[', 'F9 FT[', 'F9 FT[', 'F9 FT♺[', 'F9 FT[', 'F9 FT[', 'F9 FT[', 'F9 FTB1029.2195', 'F9 FT[', 'F9 FT[', 'F9 B4[', 'F9 FT[', 'F9 B4[', 'F9 B4[', 'F9 FTB1031.2220', 'F9 B4[', 'F9 FTB1035.2227', 'F9 FTB1036.2227', 'F9 B4[', 'F9 FTB1032.2245', 'F9 FTB1038.2268', 'F9 B4[', 'F9 B4B1041.2268', 'F9 B4B1039.2292', 'F9 B4[', 'F9 B5311B1046.1268', 'F9 B4B1043.2322', 'F9 B4B1040.2268', 'F9 B4B1045.2336', 'F9 B5', 'F9 B5349B1048[', 'F9 B5B1046.2354', 'F9 B5[', 'F9 B5B1048.2364', 'F9 B5B1047.2268', 'F9 B5B1046.3268', 'F9 B5[', 'F9 B5[', 'F9 B5B1049.2397', 'F9 B5B1048.3399', 'F9 B5[]413', 'F9 B5[', 'F9 B5B1049.3434', 'F9 B5B1051.2420', 'F9 B5B1056.2465', 'F9 B5B1047.3472', 'F9 B5', 'F9 B5[', 'F9 B5B1056.3482', 'F9 B5', 'F9 B5', 'F9 B5', 'F9 B5', 'F9 B5', 'F9 B5', 'F9 B5', 'F9 B5[', 'F9 B5', 'F9 B5', 'F9 B5', 'F9 B5B1058.2544', 'F9 B5', 'F9 B5B1049.6544', 'F9 B5', 'F9 B5B1060.2563', 'F9 B5B1058.3565', 'F9 B5B1051.6568', 'F9 B5', 'F9 B5', 'F9 B5[', 'F9 B5', 'F9 B5 ♺[', 'F9 B5 ♺[', 'F9 B5 ♺', 'F9 B5 ♺', 'F9 B5', 'F9 B5B1051.8609', 'F9 B5B1058.5613', 'F9 v1.07B0003.18', 'F9 v1.07B0004.18', 'F9 v1.07B0005.18', 'F9 v1.07B0006.18', 'F9 v1.07B0007.18', 'F9 v1.17B10038', 'F9 v1.1', 'F9 v1.1', 'F9 v1.1', 'F9 v1.1', 'F9 v1.1', 'F9 v1.1[', 'F9 v1.1[', 'F9 v1.1[', 'F9 v1.1[', 'F9 v1.1[', 'F9 v1.1[', 'F9 v1.1[', 'F9 v1.1[', 'F9 FT[', 'F9 v1.1[', 'F9 FT[', 'F9 FT[', 'F9 FT[', 'F9 FT[', 'F9 FT[', 'F9 FT[', 'F9 FT[', 'F9 FT[', 'F9 FT[', 'F9 FT[', 'F9 FT♺[', 'F9 FT[', 'F9 FT[', 'F9 FT[', 'F9 FTB1029.2195', 'F9 FT[', 'F9 FT[', 'F9 B4[', 'F9 FT[', 'F9 B4[', 'F9 B4[', 'F9 FTB1031.2220', 'F9 B4[', 'F9 FTB1035.2227', 'F9 FTB1036.2227', 'F9 B4[', 'F9 FTB1032.2245', 'F9 FTB1038.2268', 'F9 B4[', 'F9 B4B1041.2268', 'F9 B4B1039.2292', 'F9 B4[', 'F9 B5311B1046.1268', 'F9 B4B1043.2322', 'F9 B4B1040.2268', 'F9 B4B1045.2336', 'F9 B5', 'F9 B5349B1048[', 'F9 B5B1046.2354', 'F9 B5[', 'F9 B5B1048.2364', 'F9 B5B1047.2268', 'F9 B5B1046.3268', 'F9 B5[', 'F9 B5[', 'F9 B5B1049.2397', 'F9 B5B1048.3399', 'F9 B5[]413', 'F9 B5[', 'F9 B5B1049.3434', 'F9 B5B1051.2420', 'F9 B5B1056.2465', 'F9 B5B1047.3472', 'F9 B5', 'F9 B5[', 'F9 B5B1056.3482', 'F9 B5', 'F9 B5', 'F9 B5', 'F9 B5', 'F9 B5', 'F9 B5', 'F9 B5', 'F9 B5[', 'F9 B5', 'F9 B5', 'F9 B5', 'F9 B5B1058.2544', 'F9 B5', 'F9 B5B1049.6544', 'F9 B5', 'F9 B5B1060.2563', 'F9 B5B1058.3565', 'F9 B5B1051.6568', 'F9 B5', 'F9 B5', 'F9 B5[', 'F9 B5', 'F9 B5 ♺[', 'F9 B5 ♺[', 'F9 B5 ♺', 'F9 B5 ♺', 'F9 B5', 'F9 B5B1051.8609', 'F9 B5B1058.5613', 'F9 B5 ♺[', 'F9 B5 ♺', 'F9 B5 ♺[', 'F9 B5 ♺[', 'F9 B5 ♺', 'F9 B5B1060.6643', 'F9 B5 ♺', 'F9 B5B1061.2647', 'F9 B5B1060.7652', 'F9 B5B1049.9655', 'F9 B5B1051.10657', 'F9 B5B1058.8660', 'F9 B5B1063.2665', 'F9 B5B1067.1668', 'F9 B5'], 'Booster landing': ['Failure', 'Failure', 'No attempt\\n', 'No attempt', 'No attempt\\n', 'Uncontrolled', 'No attempt', 'No attempt', 'Controlled', 'Controlled', 'No attempt', 'No attempt\\n', 'Uncontrolled', 'Failure ', 'Controlled', 'No attempt', 'Failure', 'No attempt', 'Precluded', 'Success', 'Failure', 'Failure', 'Success', 'Success', 'Success', 'Failure', 'Success', 'Success', 'Success', 'Success', 'No attempt', 'Success', 'Success', 'No attempt', 'Success', 'Success', 'Success', 'No attempt', 'Success', 'Success', 'Success', 'Success', 'Success', 'Success', 'Success', 'Controlled', 'Success', 'Controlled', 'No attempt', 'No attempt', 'No attempt', 'No attempt', 'Success', 'Success', 'No attempt', 'No attempt', 'No attempt', 'Success', 'Success', 'Success', 'Success', 'Success', 'Success', 'Success', 'Failure', 'No attempt', 'Success', 'Success', 'Success', 'Success', 'Success', 'Success', 'Success', 'No attempt', 'Success', 'Success', 'Success', 'Success', 'No attempt\\n', 'Success', 'Failure', 'Success', 'Failure', 'Success', 'Success', 'Success', 'Success', 'Success', 'Success', 'Success', 'Success', 'Success', 'Success', 'Success', 'Success', 'Success', 'Success', 'Success', 'Success', 'Success', 'Success', 'Success', 'Success', 'Success', 'Success', 'Failure', 'Failure', 'No attempt\\n', 'No attempt', 'No attempt\\n', 'Uncontrolled', 'No attempt', 'No attempt', 'Controlled', 'Controlled', 'No attempt', 'No attempt\\n', 'Uncontrolled', 'Failure ', 'Controlled', 'No attempt', 'Failure', 'No attempt', 'Precluded', 'Success', 'Failure', 'Failure', 'Success', 'Success', 'Success', 'Failure', 'Success', 'Success', 'Success', 'Success', 'No attempt', 'Success', 'Success', 'No attempt', 'Success', 'Success', 'Success', 'No attempt', 'Success', 'Success', 'Success', 'Success', 'Success', 'Success', 'Success', 'Controlled', 'Success', 'Controlled', 'No attempt', 'No attempt', 'No attempt', 'No attempt', 'Success', 'Success', 'No attempt', 'No attempt', 'No attempt', 'Success', 'Success', 'Success', 'Success', 'Success', 'Success', 'Success', 'Failure', 'No attempt', 'Success', 'Success', 'Success', 'Success', 'Success', 'Success', 'Success', 'No attempt', 'Success', 'Success', 'Success', 'Success', 'No attempt\\n', 'Success', 'Failure', 'Success', 'Failure', 'Success', 'Success', 'Success', 'Success', 'Success', 'Success', 'Success', 'Success', 'Success', 'Success', 'Success', 'Success', 'Success', 'Success', 'Success', 'Success', 'Success', 'Success', 'Success', 'Success', 'Success', 'Success', 'Failure', 'Failure', 'No attempt\\n', 'No attempt', 'No attempt\\n', 'Uncontrolled', 'No attempt', 'No attempt', 'Controlled', 'Controlled', 'No attempt', 'No attempt\\n', 'Uncontrolled', 'Failure ', 'Controlled', 'No attempt', 'Failure', 'No attempt', 'Precluded', 'Success', 'Failure', 'Failure', 'Success', 'Success', 'Success', 'Failure', 'Success', 'Success', 'Success', 'Success', 'No attempt', 'Success', 'Success', 'No attempt', 'Success', 'Success', 'Success', 'No attempt', 'Success', 'Success', 'Success', 'Success', 'Success', 'Success', 'Success', 'Controlled', 'Success', 'Controlled', 'No attempt', 'No attempt', 'No attempt', 'No attempt', 'Success', 'Success', 'No attempt', 'No attempt', 'No attempt', 'Success', 'Success', 'Success', 'Success', 'Success', 'Success', 'Success', 'Failure', 'No attempt', 'Success', 'Success', 'Success', 'Success', 'Success', 'Success', 'Success', 'No attempt', 'Success', 'Success', 'Success', 'Success', 'No attempt\\n', 'Success', 'Failure', 'Success', 'Failure', 'Success', 'Success', 'Success', 'Success', 'Success', 'Success', 'Success', 'Success', 'Success', 'Success', 'Success', 'Success', 'Success', 'Success', 'Success', 'Success', 'Success', 'Success', 'Success', 'Success', 'Success', 'Success', 'Failure', 'Failure', 'No attempt\\n', 'No attempt', 'No attempt\\n', 'Uncontrolled', 'No attempt', 'No attempt', 'Controlled', 'Controlled', 'No attempt', 'No attempt\\n', 'Uncontrolled', 'Failure ', 'Controlled', 'No attempt', 'Failure', 'No attempt', 'Precluded', 'Success', 'Failure', 'Failure', 'Success', 'Success', 'Success', 'Failure', 'Success', 'Success', 'Success', 'Success', 'No attempt', 'Success', 'Success', 'No attempt', 'Success', 'Success', 'Success', 'No attempt', 'Success', 'Success', 'Success', 'Success', 'Success', 'Success', 'Success', 'Controlled', 'Success', 'Controlled', 'No attempt', 'No attempt', 'No attempt', 'No attempt', 'Success', 'Success', 'No attempt', 'No attempt', 'No attempt', 'Success', 'Success', 'Success', 'Success', 'Success', 'Success', 'Success', 'Failure', 'No attempt', 'Success', 'Success', 'Success', 'Success', 'Success', 'Success', 'Success', 'No attempt', 'Success', 'Success', 'Success', 'Success', 'No attempt\\n', 'Success', 'Failure', 'Success', 'Failure', 'Success', 'Success', 'Success', 'Success', 'Success', 'Success', 'Success', 'Success', 'Success', 'Success', 'Success', 'Success', 'Success', 'Success', 'Success', 'Success', 'Success', 'Success', 'Success', 'Success', 'Success', 'Success', 'Failure', 'Failure', 'No attempt\\n', 'No attempt', 'No attempt\\n', 'Uncontrolled', 'No attempt', 'No attempt', 'Controlled', 'Controlled', 'No attempt', 'No attempt\\n', 'Uncontrolled', 'Failure ', 'Controlled', 'No attempt', 'Failure', 'No attempt', 'Precluded', 'Success', 'Failure', 'Failure', 'Success', 'Success', 'Success', 'Failure', 'Success', 'Success', 'Success', 'Success', 'No attempt', 'Success', 'Success', 'No attempt', 'Success', 'Success', 'Success', 'No attempt', 'Success', 'Success', 'Success', 'Success', 'Success', 'Success', 'Success', 'Controlled', 'Success', 'Controlled', 'No attempt', 'No attempt', 'No attempt', 'No attempt', 'Success', 'Success', 'No attempt', 'No attempt', 'No attempt', 'Success', 'Success', 'Success', 'Success', 'Success', 'Success', 'Success', 'Failure', 'No attempt', 'Success', 'Success', 'Success', 'Success', 'Success', 'Success', 'Success', 'No attempt', 'Success', 'Success', 'Success', 'Success', 'No attempt\\n', 'Success', 'Failure', 'Success', 'Failure', 'Success', 'Success', 'Success', 'Success', 'Success', 'Success', 'Success', 'Success', 'Success', 'Success', 'Success', 'Success', 'Success', 'Success', 'Success', 'Success', 'Success', 'Success', 'Success', 'Success', 'Success', 'Success', 'Success', 'Success', 'Failure', 'Success', 'Success', 'Success', 'Success', 'Success', 'Success', 'Success', 'Success', 'Success', 'Success', 'Success', 'Success', 'Success'], 'Date': ['4 June 2010', '8 December 2010', '22 May 2012', '8 October 2012', '1 March 2013', '29 September 2013', '3 December 2013', '6 January 2014', '18 April 2014', '14 July 2014', '5 August 2014', '7 September 2014', '21 September 2014', '10 January 2015', '11 February 2015', '2 March 2015', '14 April 2015', '27 April 2015', '28 June 2015', '22 December 2015', '17 January 2016', '4 March 2016', '8 April 2016', '6 May 2016', '27 May 2016', '15 June 2016', '18 July 2016', '14 August 2016', '14 January 2017', '19 February 2017', '16 March 2017', '30 March 2017', '1 May 2017', '15 May 2017', '3 June 2017', '23 June 2017', '25 June 2017', '5 July 2017', '14 August 2017', '24 August 2017', '7 September 2017', '9 October 2017', '11 October 2017', '30 October 2017', '15 December 2017', '23 December 2017', '8 January 2018', '31 January 2018', '22 February 2018', '6 March 2018', '30 March 2018', '2 April 2018', '18 April 2018', '11 May 2018', '22 May 2018', '4 June 2018', '29 June 2018', '22 July 2018', '25 July 2018', '7 August 2018', '10 September 2018', '8 October 2018', '15 November 2018', '3 December 2018', '5 December 2018', '23 December 2018', '11 January 2019', '22 February 2019', '2 March 2019', '4 May 2019', '24 May 2019', '12 June 2019', '25 July 2019', '6 August 2019', '11 November 2019', '5 December 2019', '17 December 2019', '7 January 2020', '19 January 2020', '29 January 2020', '17 February 2020', '7 March 2020', '18 March 2020', '22 April 2020', '30 May 2020', '4 June 2020', '13 June 2020', '30 June 2020', '20 July 2020', '7 August 2020', '18 August 2020', '30 August 2020', '3 September 2020', '6 October 2020', '18 October 2020', '24 October 2020', '5 November 2020', '16 November 2020', '21 November 2020', '25 November 2020', '6 December 2020', '13 December 2020', '19 December 2020', '8 January 2021', '20 January 2021', '24 January 2021', '4 June 2010', '8 December 2010', '22 May 2012', '8 October 2012', '1 March 2013', '29 September 2013', '3 December 2013', '6 January 2014', '18 April 2014', '14 July 2014', '5 August 2014', '7 September 2014', '21 September 2014', '10 January 2015', '11 February 2015', '2 March 2015', '14 April 2015', '27 April 2015', '28 June 2015', '22 December 2015', '17 January 2016', '4 March 2016', '8 April 2016', '6 May 2016', '27 May 2016', '15 June 2016', '18 July 2016', '14 August 2016', '14 January 2017', '19 February 2017', '16 March 2017', '30 March 2017', '1 May 2017', '15 May 2017', '3 June 2017', '23 June 2017', '25 June 2017', '5 July 2017', '14 August 2017', '24 August 2017', '7 September 2017', '9 October 2017', '11 October 2017', '30 October 2017', '15 December 2017', '23 December 2017', '8 January 2018', '31 January 2018', '22 February 2018', '6 March 2018', '30 March 2018', '2 April 2018', '18 April 2018', '11 May 2018', '22 May 2018', '4 June 2018', '29 June 2018', '22 July 2018', '25 July 2018', '7 August 2018', '10 September 2018', '8 October 2018', '15 November 2018', '3 December 2018', '5 December 2018', '23 December 2018', '11 January 2019', '22 February 2019', '2 March 2019', '4 May 2019', '24 May 2019', '12 June 2019', '25 July 2019', '6 August 2019', '11 November 2019', '5 December 2019', '17 December 2019', '7 January 2020', '19 January 2020', '29 January 2020', '17 February 2020', '7 March 2020', '18 March 2020', '22 April 2020', '30 May 2020', '4 June 2020', '13 June 2020', '30 June 2020', '20 July 2020', '7 August 2020', '18 August 2020', '30 August 2020', '3 September 2020', '6 October 2020', '18 October 2020', '24 October 2020', '5 November 2020', '16 November 2020', '21 November 2020', '25 November 2020', '6 December 2020', '13 December 2020', '19 December 2020', '8 January 2021', '20 January 2021', '24 January 2021', '4 June 2010', '8 December 2010', '22 May 2012', '8 October 2012', '1 March 2013', '29 September 2013', '3 December 2013', '6 January 2014', '18 April 2014', '14 July 2014', '5 August 2014', '7 September 2014', '21 September 2014', '10 January 2015', '11 February 2015', '2 March 2015', '14 April 2015', '27 April 2015', '28 June 2015', '22 December 2015', '17 January 2016', '4 March 2016', '8 April 2016', '6 May 2016', '27 May 2016', '15 June 2016', '18 July 2016', '14 August 2016', '14 January 2017', '19 February 2017', '16 March 2017', '30 March 2017', '1 May 2017', '15 May 2017', '3 June 2017', '23 June 2017', '25 June 2017', '5 July 2017', '14 August 2017', '24 August 2017', '7 September 2017', '9 October 2017', '11 October 2017', '30 October 2017', '15 December 2017', '23 December 2017', '8 January 2018', '31 January 2018', '22 February 2018', '6 March 2018', '30 March 2018', '2 April 2018', '18 April 2018', '11 May 2018', '22 May 2018', '4 June 2018', '29 June 2018', '22 July 2018', '25 July 2018', '7 August 2018', '10 September 2018', '8 October 2018', '15 November 2018', '3 December 2018', '5 December 2018', '23 December 2018', '11 January 2019', '22 February 2019', '2 March 2019', '4 May 2019', '24 May 2019', '12 June 2019', '25 July 2019', '6 August 2019', '11 November 2019', '5 December 2019', '17 December 2019', '7 January 2020', '19 January 2020', '29 January 2020', '17 February 2020', '7 March 2020', '18 March 2020', '22 April 2020', '30 May 2020', '4 June 2020', '13 June 2020', '30 June 2020', '20 July 2020', '7 August 2020', '18 August 2020', '30 August 2020', '3 September 2020', '6 October 2020', '18 October 2020', '24 October 2020', '5 November 2020', '16 November 2020', '21 November 2020', '25 November 2020', '6 December 2020', '13 December 2020', '19 December 2020', '8 January 2021', '20 January 2021', '24 January 2021', '4 June 2010', '8 December 2010', '22 May 2012', '8 October 2012', '1 March 2013', '29 September 2013', '3 December 2013', '6 January 2014', '18 April 2014', '14 July 2014', '5 August 2014', '7 September 2014', '21 September 2014', '10 January 2015', '11 February 2015', '2 March 2015', '14 April 2015', '27 April 2015', '28 June 2015', '22 December 2015', '17 January 2016', '4 March 2016', '8 April 2016', '6 May 2016', '27 May 2016', '15 June 2016', '18 July 2016', '14 August 2016', '14 January 2017', '19 February 2017', '16 March 2017', '30 March 2017', '1 May 2017', '15 May 2017', '3 June 2017', '23 June 2017', '25 June 2017', '5 July 2017', '14 August 2017', '24 August 2017', '7 September 2017', '9 October 2017', '11 October 2017', '30 October 2017', '15 December 2017', '23 December 2017', '8 January 2018', '31 January 2018', '22 February 2018', '6 March 2018', '30 March 2018', '2 April 2018', '18 April 2018', '11 May 2018', '22 May 2018', '4 June 2018', '29 June 2018', '22 July 2018', '25 July 2018', '7 August 2018', '10 September 2018', '8 October 2018', '15 November 2018', '3 December 2018', '5 December 2018', '23 December 2018', '11 January 2019', '22 February 2019', '2 March 2019', '4 May 2019', '24 May 2019', '12 June 2019', '25 July 2019', '6 August 2019', '11 November 2019', '5 December 2019', '17 December 2019', '7 January 2020', '19 January 2020', '29 January 2020', '17 February 2020', '7 March 2020', '18 March 2020', '22 April 2020', '30 May 2020', '4 June 2020', '13 June 2020', '30 June 2020', '20 July 2020', '7 August 2020', '18 August 2020', '30 August 2020', '3 September 2020', '6 October 2020', '18 October 2020', '24 October 2020', '5 November 2020', '16 November 2020', '21 November 2020', '25 November 2020', '6 December 2020', '13 December 2020', '19 December 2020', '8 January 2021', '20 January 2021', '24 January 2021', '4 June 2010', '8 December 2010', '22 May 2012', '8 October 2012', '1 March 2013', '29 September 2013', '3 December 2013', '6 January 2014', '18 April 2014', '14 July 2014', '5 August 2014', '7 September 2014', '21 September 2014', '10 January 2015', '11 February 2015', '2 March 2015', '14 April 2015', '27 April 2015', '28 June 2015', '22 December 2015', '17 January 2016', '4 March 2016', '8 April 2016', '6 May 2016', '27 May 2016', '15 June 2016', '18 July 2016', '14 August 2016', '14 January 2017', '19 February 2017', '16 March 2017', '30 March 2017', '1 May 2017', '15 May 2017', '3 June 2017', '23 June 2017', '25 June 2017', '5 July 2017', '14 August 2017', '24 August 2017', '7 September 2017', '9 October 2017', '11 October 2017', '30 October 2017', '15 December 2017', '23 December 2017', '8 January 2018', '31 January 2018', '22 February 2018', '6 March 2018', '30 March 2018', '2 April 2018', '18 April 2018', '11 May 2018', '22 May 2018', '4 June 2018', '29 June 2018', '22 July 2018', '25 July 2018', '7 August 2018', '10 September 2018', '8 October 2018', '15 November 2018', '3 December 2018', '5 December 2018', '23 December 2018', '11 January 2019', '22 February 2019', '2 March 2019', '4 May 2019', '24 May 2019', '12 June 2019', '25 July 2019', '6 August 2019', '11 November 2019', '5 December 2019', '17 December 2019', '7 January 2020', '19 January 2020', '29 January 2020', '17 February 2020', '7 March 2020', '18 March 2020', '22 April 2020', '30 May 2020', '4 June 2020', '13 June 2020', '30 June 2020', '20 July 2020', '7 August 2020', '18 August 2020', '30 August 2020', '3 September 2020', '6 October 2020', '18 October 2020', '24 October 2020', '5 November 2020', '16 November 2020', '21 November 2020', '25 November 2020', '6 December 2020', '13 December 2020', '19 December 2020', '8 January 2021', '20 January 2021', '24 January 2021', '4 February 2021', '16 February 2021', '4 March 2021', '11 March 2021', '14 March 2021', '24 March 2021', '7 April 2021', '23 April 2021', '29 April 2021', '4 May 2021', '9 May 2021', '15 May 2021', '26 May 2021', '3 June 2021', '6 June 2021'], 'Time': ['18:45', '15:43', '07:44', '00:35', '15:10', '16:00', '22:41', '22:06', '19:25', '15:15', '08:00', '05:00', '05:52', '09:47', '23:03', '03:50', '20:10', '23:03', '14:21', '01:29', '18:42', '23:35', '20:43', '05:21', '21:39', '14:29', '04:45', '05:26', '17:54', '14:39', '06:00', '22:27', '11:15', '23:21', '21:07', '19:10', '20:25', '23:38', '16:31', '18:51', '14:00', '12:37', '22:53:00', '19:34', '15:36', '01:27', '01:00', '21:25', '14:17', '05:33', '14:14', '20:30', '22:51', '20:14', '19:47', '04:45', '09:42', '05:50', '11:39', '05:18', '04:45', '02:22', '20:46', '18:34:05', '18:16', '13:51', '15:31', '01:45', '07:49', '06:48', '02:30', '14:17', '22:01', '23:23', '14:56', '17:29', '00:10', '02:19:21', '15:30', '14:07', '15:05', '04:50', '12:16', '19:30', '19:22', '01:25', '09:21', '20:10:46', '21:30', '05:12', '14:31', '23:18', '12:46:14', '11:29:34', '12:25:57', '15:31:34', '23:24:23', '00:27', '17:17:08', '02:13', '16:17:08', '17:30:00', '14:00:00', '02:15', '13:02', '15:00', '18:45', '15:43', '07:44', '00:35', '15:10', '16:00', '22:41', '22:06', '19:25', '15:15', '08:00', '05:00', '05:52', '09:47', '23:03', '03:50', '20:10', '23:03', '14:21', '01:29', '18:42', '23:35', '20:43', '05:21', '21:39', '14:29', '04:45', '05:26', '17:54', '14:39', '06:00', '22:27', '11:15', '23:21', '21:07', '19:10', '20:25', '23:38', '16:31', '18:51', '14:00', '12:37', '22:53:00', '19:34', '15:36', '01:27', '01:00', '21:25', '14:17', '05:33', '14:14', '20:30', '22:51', '20:14', '19:47', '04:45', '09:42', '05:50', '11:39', '05:18', '04:45', '02:22', '20:46', '18:34:05', '18:16', '13:51', '15:31', '01:45', '07:49', '06:48', '02:30', '14:17', '22:01', '23:23', '14:56', '17:29', '00:10', '02:19:21', '15:30', '14:07', '15:05', '04:50', '12:16', '19:30', '19:22', '01:25', '09:21', '20:10:46', '21:30', '05:12', '14:31', '23:18', '12:46:14', '11:29:34', '12:25:57', '15:31:34', '23:24:23', '00:27', '17:17:08', '02:13', '16:17:08', '17:30:00', '14:00:00', '02:15', '13:02', '15:00', '18:45', '15:43', '07:44', '00:35', '15:10', '16:00', '22:41', '22:06', '19:25', '15:15', '08:00', '05:00', '05:52', '09:47', '23:03', '03:50', '20:10', '23:03', '14:21', '01:29', '18:42', '23:35', '20:43', '05:21', '21:39', '14:29', '04:45', '05:26', '17:54', '14:39', '06:00', '22:27', '11:15', '23:21', '21:07', '19:10', '20:25', '23:38', '16:31', '18:51', '14:00', '12:37', '22:53:00', '19:34', '15:36', '01:27', '01:00', '21:25', '14:17', '05:33', '14:14', '20:30', '22:51', '20:14', '19:47', '04:45', '09:42', '05:50', '11:39', '05:18', '04:45', '02:22', '20:46', '18:34:05', '18:16', '13:51', '15:31', '01:45', '07:49', '06:48', '02:30', '14:17', '22:01', '23:23', '14:56', '17:29', '00:10', '02:19:21', '15:30', '14:07', '15:05', '04:50', '12:16', '19:30', '19:22', '01:25', '09:21', '20:10:46', '21:30', '05:12', '14:31', '23:18', '12:46:14', '11:29:34', '12:25:57', '15:31:34', '23:24:23', '00:27', '17:17:08', '02:13', '16:17:08', '17:30:00', '14:00:00', '02:15', '13:02', '15:00', '18:45', '15:43', '07:44', '00:35', '15:10', '16:00', '22:41', '22:06', '19:25', '15:15', '08:00', '05:00', '05:52', '09:47', '23:03', '03:50', '20:10', '23:03', '14:21', '01:29', '18:42', '23:35', '20:43', '05:21', '21:39', '14:29', '04:45', '05:26', '17:54', '14:39', '06:00', '22:27', '11:15', '23:21', '21:07', '19:10', '20:25', '23:38', '16:31', '18:51', '14:00', '12:37', '22:53:00', '19:34', '15:36', '01:27', '01:00', '21:25', '14:17', '05:33', '14:14', '20:30', '22:51', '20:14', '19:47', '04:45', '09:42', '05:50', '11:39', '05:18', '04:45', '02:22', '20:46', '18:34:05', '18:16', '13:51', '15:31', '01:45', '07:49', '06:48', '02:30', '14:17', '22:01', '23:23', '14:56', '17:29', '00:10', '02:19:21', '15:30', '14:07', '15:05', '04:50', '12:16', '19:30', '19:22', '01:25', '09:21', '20:10:46', '21:30', '05:12', '14:31', '23:18', '12:46:14', '11:29:34', '12:25:57', '15:31:34', '23:24:23', '00:27', '17:17:08', '02:13', '16:17:08', '17:30:00', '14:00:00', '02:15', '13:02', '15:00', '18:45', '15:43', '07:44', '00:35', '15:10', '16:00', '22:41', '22:06', '19:25', '15:15', '08:00', '05:00', '05:52', '09:47', '23:03', '03:50', '20:10', '23:03', '14:21', '01:29', '18:42', '23:35', '20:43', '05:21', '21:39', '14:29', '04:45', '05:26', '17:54', '14:39', '06:00', '22:27', '11:15', '23:21', '21:07', '19:10', '20:25', '23:38', '16:31', '18:51', '14:00', '12:37', '22:53:00', '19:34', '15:36', '01:27', '01:00', '21:25', '14:17', '05:33', '14:14', '20:30', '22:51', '20:14', '19:47', '04:45', '09:42', '05:50', '11:39', '05:18', '04:45', '02:22', '20:46', '18:34:05', '18:16', '13:51', '15:31', '01:45', '07:49', '06:48', '02:30', '14:17', '22:01', '23:23', '14:56', '17:29', '00:10', '02:19:21', '15:30', '14:07', '15:05', '04:50', '12:16', '19:30', '19:22', '01:25', '09:21', '20:10:46', '21:30', '05:12', '14:31', '23:18', '12:46:14', '11:29:34', '12:25:57', '15:31:34', '23:24:23', '00:27', '17:17:08', '02:13', '16:17:08', '17:30:00', '14:00:00', '02:15', '13:02', '15:00', '06:19', '03:59:37', '08:24', '08:13:29', '10:01', '08:28', '16:34', '9:49', '03:44', '19:01', '06:42', '22:56', '18:59', '17:29', '04:26']}\n"
     ]
    }
   ],
   "execution_count": 19
  },
  {
   "cell_type": "markdown",
   "metadata": {},
   "source": [
    "After you have fill in the parsed launch record values into `launch_dict`, you can create a dataframe from it.\n"
   ]
  },
  {
   "cell_type": "code",
   "metadata": {
    "ExecuteTime": {
     "end_time": "2024-12-14T20:47:28.469356Z",
     "start_time": "2024-12-14T20:47:28.462709Z"
    }
   },
   "source": [
    "df= pd.DataFrame({ key:pd.Series(value) for key, value in launch_dict.items() })"
   ],
   "outputs": [],
   "execution_count": 21
  },
  {
   "cell_type": "markdown",
   "metadata": {},
   "source": [
    "We can now export it to a <b>CSV</b> for the next section, but to make the answers consistent and in case you have difficulties finishing this lab. \n",
    "\n",
    "Following labs will be using a provided dataset to make each lab independent. \n"
   ]
  },
  {
   "metadata": {
    "ExecuteTime": {
     "end_time": "2024-12-14T20:47:31.991212Z",
     "start_time": "2024-12-14T20:47:31.983526Z"
    }
   },
   "cell_type": "code",
   "source": "df.to_csv('spacex_web_scraped.csv', index=False)\n",
   "outputs": [],
   "execution_count": 22
  },
  {
   "cell_type": "markdown",
   "metadata": {},
   "source": [
    "## Authors\n"
   ]
  },
  {
   "cell_type": "markdown",
   "metadata": {},
   "source": [
    "<a href=\"https://www.linkedin.com/in/yan-luo-96288783/\">Yan Luo</a>\n"
   ]
  },
  {
   "cell_type": "markdown",
   "metadata": {},
   "source": [
    "<a href=\"https://www.linkedin.com/in/nayefaboutayoun/\">Nayef Abou Tayoun</a>\n"
   ]
  },
  {
   "cell_type": "markdown",
   "metadata": {},
   "source": [
    "<!--\n",
    "## Change Log\n",
    "-->\n"
   ]
  },
  {
   "cell_type": "markdown",
   "metadata": {},
   "source": [
    "<!--\n",
    "| Date (YYYY-MM-DD) | Version | Changed By | Change Description      |\n",
    "| ----------------- | ------- | ---------- | ----------------------- |\n",
    "| 2021-06-09        | 1.0     | Yan Luo    | Tasks updates           |\n",
    "| 2020-11-10        | 1.0     | Nayef      | Created the initial version |\n",
    "-->\n"
   ]
  },
  {
   "cell_type": "markdown",
   "metadata": {},
   "source": [
    "Copyright © 2021 IBM Corporation. All rights reserved.\n"
   ]
  }
 ],
 "metadata": {
  "kernelspec": {
   "display_name": "Python 3 (ipykernel)",
   "language": "python",
   "name": "python3"
  },
  "language_info": {
   "name": "python",
   "version": "3.7.12",
   "mimetype": "text/x-python",
   "codemirror_mode": {
    "name": "ipython",
    "version": 3
   },
   "pygments_lexer": "ipython3",
   "nbconvert_exporter": "python",
   "file_extension": ".py"
  },
  "prev_pub_hash": "64f1b0aac408997185c47caba18730e0028b75e7934a0e5bf0ae73c5cb7ba677"
 },
 "nbformat": 4,
 "nbformat_minor": 4
}
