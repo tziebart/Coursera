{
 "cells": [
  {
   "cell_type": "markdown",
   "id": "cc4155aa-7b15-4d7a-912d-2288f64e45b0",
   "metadata": {},
   "source": [
    "<h1>Data Science Tools and Ecosystem</h1>"
   ]
  },
  {
   "cell_type": "markdown",
   "id": "c17fb99d-7c18-4bc8-8be0-a66fefbbc97a",
   "metadata": {},
   "source": [
    "<h2>Author</h2>\n",
    "\n",
    "Tim Ziebart\n"
   ]
  },
  {
   "cell_type": "markdown",
   "id": "3caa0f66-708e-4213-afb1-c54fe7ff517e",
   "metadata": {},
   "source": [
    "In this notebook we will summarize the Data Science Tools and Ecosystem as presented in the course Tools For Data Science."
   ]
  },
  {
   "cell_type": "markdown",
   "id": "9d7f9db5-c3d0-417a-b1dd-16b07c5b6b8a",
   "metadata": {},
   "source": [
    "**Objectives:**\n",
    "\n",
    "- Popular Languages used by Data Scientists.\n",
    "- Popular Libraries used by Data Scientists.\n",
    "- Open Source Tools for Data Scientists.\n",
    "- Evaluation of Arithmetic expressions in Jupyter Notebooks. \n"
   ]
  },
  {
   "cell_type": "markdown",
   "id": "353d1cbc-8f36-4537-b8ff-f7f3d5e62e55",
   "metadata": {},
   "source": [
    "Some of the popular languages that Data Scientists use are:\n",
    " 1. Python\n",
    " 2. R\n",
    " 3. SQL\n",
    " 4. Julia\n",
    " 5. Scala\n",
    "\n"
   ]
  },
  {
   "cell_type": "markdown",
   "id": "4255ffd0-d2bc-46b9-8fdf-5f99f809a28c",
   "metadata": {},
   "source": [
    "Some of the popular libraries used by Data Scientists (emphasis on python libraries):\n",
    " 1. Pandas (Data manipulation)\n",
    " 2. Numpy (Numerical operations)\n",
    " 3. Matplotlib (Data visualization)\n",
    " 4. Scikit-learn (Machine Learning)\n",
    " 5. PyTorch (Deep learning - dynamic computation graph)\n",
    " 6. TensorFlow (Deep learning - neural networks)"
   ]
  },
  {
   "cell_type": "markdown",
   "id": "761e58a8-21fe-4553-88cc-37c7614a5fc2",
   "metadata": {},
   "source": [
    "<h1>Open Source Tools For Data Scientists</h1>\n",
    "<div style=\"text-align: left\"> \n",
    "\n",
    "<h3>Common Tools - single column</h3>\n",
    "\n",
    "| Tool |\n",
    "|:---:|\n",
    "|MySQL|\n",
    "|GitHub|\n",
    "|Apache AirFlow|\n",
    "\n",
    "<h3>This is a more comprehensive list of Open Source Tools</h3>\n",
    "    \n",
    "|Classification | Tools |\n",
    "|:---------------|:----|\n",
    "| Data Management |MySQL, PostgreSQL, MongoDB, Apache CouchDB, Apache Cassandra, Hadoop File System, Ceph, and elastic search |\n",
    "| Data Integration and transformation |Apache AirFlow, KubeFlow, Apache Kafka, Apache Nifi, Apache SparkSQL, and NodeRED. |\n",
    "| Data visualization |Pixie Dust, Hue, Kibana, and Apache Superset. |\n",
    "| Model development |IBM watson studio, IBM autoAI, IBM watson openscale, IBM watson machine learning.|\n",
    "| Model deployment |Apache PredictionIO, Seldon, Kubernetes, Redhat OpenShift, Mleap, TensorFlow service, TensorFlow lite, TensorFlow dot JS.|\n",
    "| Model monitoring |ModelDB, Prometheus, IBM AI Fairness 360, IBM Adversarial Robustness 360 Toolbox, and IBM AI Explainability 360.|\n",
    "| Code asset management |Git, GitHub, GitLab, and BitBucket|\n",
    "| Data asset management |Apache Atlas, ODPi Egeria, and Kylo.|\n",
    "\n",
    "</div>"
   ]
  },
  {
   "cell_type": "markdown",
   "id": "1ef38a0c-bef4-42e3-b9e5-653ac102b9cf",
   "metadata": {},
   "source": [
    "<h3>Below are a few examples of evaluating arithmetic expressions in Python</h3>\n",
    "\n",
    "Adding numbers\n",
    "5 + 3\n",
    "\n",
    "Assigning variables\n",
    "x = 10\n",
    "y = 5\n",
    "\n",
    "Arithmetic with variables\n",
    "z = (x + y) * 2"
   ]
  },
  {
   "cell_type": "code",
   "execution_count": 5,
   "id": "26c0d500-3957-443e-8512-30c314735416",
   "metadata": {},
   "outputs": [
    {
     "data": {
      "text/plain": [
       "17"
      ]
     },
     "execution_count": 5,
     "metadata": {},
     "output_type": "execute_result"
    }
   ],
   "source": [
    "(3*4)+5"
   ]
  },
  {
   "cell_type": "code",
   "execution_count": 6,
   "id": "e54a7b97-5fd8-432f-81f9-976ed4eba55b",
   "metadata": {},
   "outputs": [
    {
     "data": {
      "text/plain": [
       "3.3333333333333335"
      ]
     },
     "execution_count": 6,
     "metadata": {},
     "output_type": "execute_result"
    }
   ],
   "source": [
    "# This will convert 200 minutes to hours by dividing by 60\n",
    "\n",
    "200/60"
   ]
  },
  {
   "cell_type": "code",
   "execution_count": null,
   "id": "1673b46a-cc14-4018-90d6-222fc0048b4c",
   "metadata": {},
   "outputs": [],
   "source": []
  }
 ],
 "metadata": {
  "kernelspec": {
   "display_name": "Python 3 (ipykernel)",
   "language": "python",
   "name": "python3"
  },
  "language_info": {
   "codemirror_mode": {
    "name": "ipython",
    "version": 3
   },
   "file_extension": ".py",
   "mimetype": "text/x-python",
   "name": "python",
   "nbconvert_exporter": "python",
   "pygments_lexer": "ipython3",
   "version": "3.12.5"
  }
 },
 "nbformat": 4,
 "nbformat_minor": 5
}
